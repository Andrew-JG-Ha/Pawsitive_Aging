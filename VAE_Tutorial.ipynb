{
 "cells": [
  {
   "cell_type": "markdown",
   "id": "ab725263-0d9d-48b0-af86-62a3a554d306",
   "metadata": {},
   "source": [
    "VAE - Pawsitive Aging\n",
    "==============\n",
    "https://towardsdatascience.com/understanding-variational-autoencoders-vaes-f70510919f73\n",
    "\n",
    "https://keras.io/examples/generative/vae/\n",
    "\n",
    "https://www.cs.toronto.edu/~hinton/absps/science.pdf\n",
    "\n",
    "https://www.youtube.com/watch?v=iwEzwTTalbg\n",
    "\n",
    "Reparameterization Trick\n",
    "https://www.youtube.com/watch?v=vy8q-WnHa9A\n",
    "\n",
    "VAE is an architecture consisting of an encoder-->latent space-->decoder\n",
    "- a VAE takes in an image, compresses it to a latent space then decodes the data to a similar image, the main difference between a VAE and a regular autoencoder is that we sample the latent space(z) from a Gaussian distribution, there is a issue with sampling. That is sampling is not continuous (there is no derivative - backpropagation will not compute an estimate of the derivative)\n",
    "- therefore we use Reparameterization trick: z ~ N(mu, sigma): mu = mean, sigma = standard deviation\n"
   ]
  },
  {
   "cell_type": "markdown",
   "id": "9292c2a2-74b2-4430-8ba7-e0c6dd306866",
   "metadata": {},
   "source": [
    "Library Includes and Function Definitions\n",
    "============="
   ]
  },
  {
   "cell_type": "code",
   "execution_count": 200,
   "id": "451360e8-bda0-410d-b94d-da29d4f5f709",
   "metadata": {
    "tags": []
   },
   "outputs": [],
   "source": [
    "# library includes\n",
    "import os\n",
    "import numpy as np\n",
    "import pandas as pd\n",
    "import tensorflow as tf\n",
    "import keras\n",
    "from keras.preprocessing.image import img_to_array, load_img\n",
    "from sklearn.model_selection import train_test_split"
   ]
  },
  {
   "cell_type": "code",
   "execution_count": 15,
   "id": "048ad29d-1e81-46a7-b563-d141e256eee2",
   "metadata": {
    "tags": []
   },
   "outputs": [
    {
     "name": "stdout",
     "output_type": "stream",
     "text": [
      "3.0.5\n"
     ]
    }
   ],
   "source": [
    "print(keras.version())\n",
    "\n",
    "# int_shape in keras.backend was deprecated - using self defined function\n",
    "def int_shape(x):\n",
    "    try:\n",
    "        shape = x.shape\n",
    "        if not isinstance(shape, tuple):\n",
    "            shape = tuple(shape.as_list())\n",
    "        return shape\n",
    "    except ValueError:\n",
    "        return None\n",
    "    \n",
    "# random_normal was deprecated    \n",
    "def random_normal(shape, mean=0.0, stddev=1.0, dtype=None, seed=None):\n",
    "    if dtype is None:\n",
    "        dtype = keras.backend.floatx()\n",
    "    if seed is None:\n",
    "        seed = np.random.randint(10e6)\n",
    "    return tf.random.normal(\n",
    "        shape, mean=mean, stddev=stddev, dtype=dtype, seed=seed\n",
    "    )    "
   ]
  },
  {
   "cell_type": "markdown",
   "id": "ccc30539-c7bc-4094-a913-51d3633291e3",
   "metadata": {},
   "source": [
    "Data Processing and Loading\n",
    "========================="
   ]
  },
  {
   "cell_type": "code",
   "execution_count": 3,
   "id": "af675bcc-9309-4a90-a324-9c2f97859588",
   "metadata": {
    "tags": []
   },
   "outputs": [
    {
     "data": {
      "text/html": [
       "<div>\n",
       "<style scoped>\n",
       "    .dataframe tbody tr th:only-of-type {\n",
       "        vertical-align: middle;\n",
       "    }\n",
       "\n",
       "    .dataframe tbody tr th {\n",
       "        vertical-align: top;\n",
       "    }\n",
       "\n",
       "    .dataframe thead th {\n",
       "        text-align: right;\n",
       "    }\n",
       "</style>\n",
       "<table border=\"1\" class=\"dataframe\">\n",
       "  <thead>\n",
       "    <tr style=\"text-align: right;\">\n",
       "      <th></th>\n",
       "      <th>index</th>\n",
       "      <th>fileDirectory</th>\n",
       "      <th>label</th>\n",
       "      <th>fullFilePath</th>\n",
       "    </tr>\n",
       "  </thead>\n",
       "  <tbody>\n",
       "    <tr>\n",
       "      <th>0</th>\n",
       "      <td>0</td>\n",
       "      <td>dog000000.jpg</td>\n",
       "      <td>middle-aged</td>\n",
       "      <td>./data_sources/images/processed_dogs/dog000000...</td>\n",
       "    </tr>\n",
       "    <tr>\n",
       "      <th>1</th>\n",
       "      <td>1</td>\n",
       "      <td>dog000001.jpg</td>\n",
       "      <td>middle-aged</td>\n",
       "      <td>./data_sources/images/processed_dogs/dog000001...</td>\n",
       "    </tr>\n",
       "    <tr>\n",
       "      <th>2</th>\n",
       "      <td>2</td>\n",
       "      <td>dog000002.jpg</td>\n",
       "      <td>middle-aged</td>\n",
       "      <td>./data_sources/images/processed_dogs/dog000002...</td>\n",
       "    </tr>\n",
       "    <tr>\n",
       "      <th>3</th>\n",
       "      <td>3</td>\n",
       "      <td>dog000003.jpg</td>\n",
       "      <td>old</td>\n",
       "      <td>./data_sources/images/processed_dogs/dog000003...</td>\n",
       "    </tr>\n",
       "    <tr>\n",
       "      <th>4</th>\n",
       "      <td>4</td>\n",
       "      <td>dog000004.jpg</td>\n",
       "      <td>middle-aged</td>\n",
       "      <td>./data_sources/images/processed_dogs/dog000004...</td>\n",
       "    </tr>\n",
       "    <tr>\n",
       "      <th>...</th>\n",
       "      <td>...</td>\n",
       "      <td>...</td>\n",
       "      <td>...</td>\n",
       "      <td>...</td>\n",
       "    </tr>\n",
       "    <tr>\n",
       "      <th>5570</th>\n",
       "      <td>5570</td>\n",
       "      <td>dog005570.jpg</td>\n",
       "      <td>young</td>\n",
       "      <td>./data_sources/images/processed_dogs/dog005570...</td>\n",
       "    </tr>\n",
       "    <tr>\n",
       "      <th>5571</th>\n",
       "      <td>5571</td>\n",
       "      <td>dog005571.jpg</td>\n",
       "      <td>middle-aged</td>\n",
       "      <td>./data_sources/images/processed_dogs/dog005571...</td>\n",
       "    </tr>\n",
       "    <tr>\n",
       "      <th>5572</th>\n",
       "      <td>5572</td>\n",
       "      <td>dog005572.jpg</td>\n",
       "      <td>middle-aged</td>\n",
       "      <td>./data_sources/images/processed_dogs/dog005572...</td>\n",
       "    </tr>\n",
       "    <tr>\n",
       "      <th>5573</th>\n",
       "      <td>5573</td>\n",
       "      <td>dog005573.jpg</td>\n",
       "      <td>young</td>\n",
       "      <td>./data_sources/images/processed_dogs/dog005573...</td>\n",
       "    </tr>\n",
       "    <tr>\n",
       "      <th>5574</th>\n",
       "      <td>5574</td>\n",
       "      <td>dog005574.jpg</td>\n",
       "      <td>young</td>\n",
       "      <td>./data_sources/images/processed_dogs/dog005574...</td>\n",
       "    </tr>\n",
       "  </tbody>\n",
       "</table>\n",
       "<p>5453 rows × 4 columns</p>\n",
       "</div>"
      ],
      "text/plain": [
       "      index  fileDirectory        label  \\\n",
       "0         0  dog000000.jpg  middle-aged   \n",
       "1         1  dog000001.jpg  middle-aged   \n",
       "2         2  dog000002.jpg  middle-aged   \n",
       "3         3  dog000003.jpg          old   \n",
       "4         4  dog000004.jpg  middle-aged   \n",
       "...     ...            ...          ...   \n",
       "5570   5570  dog005570.jpg        young   \n",
       "5571   5571  dog005571.jpg  middle-aged   \n",
       "5572   5572  dog005572.jpg  middle-aged   \n",
       "5573   5573  dog005573.jpg        young   \n",
       "5574   5574  dog005574.jpg        young   \n",
       "\n",
       "                                           fullFilePath  \n",
       "0     ./data_sources/images/processed_dogs/dog000000...  \n",
       "1     ./data_sources/images/processed_dogs/dog000001...  \n",
       "2     ./data_sources/images/processed_dogs/dog000002...  \n",
       "3     ./data_sources/images/processed_dogs/dog000003...  \n",
       "4     ./data_sources/images/processed_dogs/dog000004...  \n",
       "...                                                 ...  \n",
       "5570  ./data_sources/images/processed_dogs/dog005570...  \n",
       "5571  ./data_sources/images/processed_dogs/dog005571...  \n",
       "5572  ./data_sources/images/processed_dogs/dog005572...  \n",
       "5573  ./data_sources/images/processed_dogs/dog005573...  \n",
       "5574  ./data_sources/images/processed_dogs/dog005574...  \n",
       "\n",
       "[5453 rows x 4 columns]"
      ]
     },
     "execution_count": 3,
     "metadata": {},
     "output_type": "execute_result"
    }
   ],
   "source": [
    "# data loading from CSV\n",
    "data_path = \"./data_sources/\"\n",
    "processedDogs_path = \"./data_sources/images/processed_dogs/\"\n",
    "data_csv_path = \"./data_sources/dog_data.csv\"\n",
    "\n",
    "dogCSV = pd.read_csv(data_csv_path)\n",
    "\n",
    "dogImagesPaths = []\n",
    "for fileDirectory in dogCSV[\"fileDirectory\"]:\n",
    "    dogImagesPaths.append(processedDogs_path + fileDirectory)\n",
    "\n",
    "dogCSV[\"fullFilePath\"] = dogImagesPaths\n",
    "\n",
    "# removing all the rows that are labeled other than \"middle-aged\", \"old\", \"young\"\n",
    "properLabels = [\"old\", \"young\", \"middle-aged\"]\n",
    "dogCSV = dogCSV[dogCSV[\"label\"].isin(properLabels)]\n",
    "dogCSV"
   ]
  },
  {
   "cell_type": "code",
   "execution_count": 4,
   "id": "c663ba99-3823-456e-a77a-2f022922345f",
   "metadata": {
    "tags": []
   },
   "outputs": [
    {
     "data": {
      "text/html": [
       "<div>\n",
       "<style scoped>\n",
       "    .dataframe tbody tr th:only-of-type {\n",
       "        vertical-align: middle;\n",
       "    }\n",
       "\n",
       "    .dataframe tbody tr th {\n",
       "        vertical-align: top;\n",
       "    }\n",
       "\n",
       "    .dataframe thead th {\n",
       "        text-align: right;\n",
       "    }\n",
       "</style>\n",
       "<table border=\"1\" class=\"dataframe\">\n",
       "  <thead>\n",
       "    <tr style=\"text-align: right;\">\n",
       "      <th></th>\n",
       "      <th>index</th>\n",
       "      <th>fileDirectory</th>\n",
       "      <th>label</th>\n",
       "      <th>fullFilePath</th>\n",
       "      <th>RGB_data</th>\n",
       "      <th>R_data</th>\n",
       "      <th>G_data</th>\n",
       "      <th>B_data</th>\n",
       "    </tr>\n",
       "  </thead>\n",
       "  <tbody>\n",
       "    <tr>\n",
       "      <th>0</th>\n",
       "      <td>0</td>\n",
       "      <td>dog000000.jpg</td>\n",
       "      <td>middle-aged</td>\n",
       "      <td>./data_sources/images/processed_dogs/dog000000...</td>\n",
       "      <td>[[[0.49411765, 0.43137255, 0.43529412], [0.501...</td>\n",
       "      <td>[0.49411765, 0.5019608, 0.39607844, 0.43137255...</td>\n",
       "      <td>[0.43137255, 0.4392157, 0.33333334, 0.36862746...</td>\n",
       "      <td>[0.43529412, 0.44313726, 0.3372549, 0.37254903...</td>\n",
       "    </tr>\n",
       "    <tr>\n",
       "      <th>1</th>\n",
       "      <td>1</td>\n",
       "      <td>dog000001.jpg</td>\n",
       "      <td>middle-aged</td>\n",
       "      <td>./data_sources/images/processed_dogs/dog000001...</td>\n",
       "      <td>[[[0.28235295, 0.39215687, 0.4862745], [0.3098...</td>\n",
       "      <td>[0.28235295, 0.30980393, 0.30980393, 0.2784314...</td>\n",
       "      <td>[0.39215687, 0.41960785, 0.41960785, 0.3882353...</td>\n",
       "      <td>[0.4862745, 0.5137255, 0.5137255, 0.48235294, ...</td>\n",
       "    </tr>\n",
       "    <tr>\n",
       "      <th>2</th>\n",
       "      <td>2</td>\n",
       "      <td>dog000002.jpg</td>\n",
       "      <td>middle-aged</td>\n",
       "      <td>./data_sources/images/processed_dogs/dog000002...</td>\n",
       "      <td>[[[0.32156864, 0.078431375, 0.13725491], [0.32...</td>\n",
       "      <td>[0.32156864, 0.32156864, 0.32156864, 0.3098039...</td>\n",
       "      <td>[0.078431375, 0.078431375, 0.07058824, 0.05882...</td>\n",
       "      <td>[0.13725491, 0.13725491, 0.13333334, 0.1215686...</td>\n",
       "    </tr>\n",
       "    <tr>\n",
       "      <th>3</th>\n",
       "      <td>3</td>\n",
       "      <td>dog000003.jpg</td>\n",
       "      <td>old</td>\n",
       "      <td>./data_sources/images/processed_dogs/dog000003...</td>\n",
       "      <td>[[[1.0, 0.99607843, 1.0], [0.9529412, 0.933333...</td>\n",
       "      <td>[1.0, 0.9529412, 1.0, 0.9490196, 0.9843137, 1....</td>\n",
       "      <td>[0.99607843, 0.93333334, 0.99215686, 0.9137255...</td>\n",
       "      <td>[1.0, 0.9490196, 1.0, 0.93333334, 0.95686275, ...</td>\n",
       "    </tr>\n",
       "    <tr>\n",
       "      <th>4</th>\n",
       "      <td>4</td>\n",
       "      <td>dog000004.jpg</td>\n",
       "      <td>middle-aged</td>\n",
       "      <td>./data_sources/images/processed_dogs/dog000004...</td>\n",
       "      <td>[[[0.011764706, 0.011764706, 0.011764706], [0....</td>\n",
       "      <td>[0.011764706, 0.011764706, 0.011764706, 0.0078...</td>\n",
       "      <td>[0.011764706, 0.011764706, 0.011764706, 0.0078...</td>\n",
       "      <td>[0.011764706, 0.011764706, 0.011764706, 0.0078...</td>\n",
       "    </tr>\n",
       "    <tr>\n",
       "      <th>...</th>\n",
       "      <td>...</td>\n",
       "      <td>...</td>\n",
       "      <td>...</td>\n",
       "      <td>...</td>\n",
       "      <td>...</td>\n",
       "      <td>...</td>\n",
       "      <td>...</td>\n",
       "      <td>...</td>\n",
       "    </tr>\n",
       "    <tr>\n",
       "      <th>5570</th>\n",
       "      <td>5570</td>\n",
       "      <td>dog005570.jpg</td>\n",
       "      <td>young</td>\n",
       "      <td>./data_sources/images/processed_dogs/dog005570...</td>\n",
       "      <td>[[[0.39607844, 0.40392157, 0.4], [0.39607844, ...</td>\n",
       "      <td>[0.39607844, 0.39607844, 0.4, 0.4, 0.40392157,...</td>\n",
       "      <td>[0.40392157, 0.40392157, 0.40784314, 0.4078431...</td>\n",
       "      <td>[0.4, 0.4, 0.40392157, 0.40392157, 0.40784314,...</td>\n",
       "    </tr>\n",
       "    <tr>\n",
       "      <th>5571</th>\n",
       "      <td>5571</td>\n",
       "      <td>dog005571.jpg</td>\n",
       "      <td>middle-aged</td>\n",
       "      <td>./data_sources/images/processed_dogs/dog005571...</td>\n",
       "      <td>[[[0.023529412, 0.023529412, 0.023529412], [0....</td>\n",
       "      <td>[0.023529412, 0.023529412, 0.023529412, 0.0235...</td>\n",
       "      <td>[0.023529412, 0.023529412, 0.023529412, 0.0235...</td>\n",
       "      <td>[0.023529412, 0.023529412, 0.023529412, 0.0235...</td>\n",
       "    </tr>\n",
       "    <tr>\n",
       "      <th>5572</th>\n",
       "      <td>5572</td>\n",
       "      <td>dog005572.jpg</td>\n",
       "      <td>middle-aged</td>\n",
       "      <td>./data_sources/images/processed_dogs/dog005572...</td>\n",
       "      <td>[[[0.6117647, 0.39607844, 0.1764706], [0.63137...</td>\n",
       "      <td>[0.6117647, 0.6313726, 0.72156864, 0.43529412,...</td>\n",
       "      <td>[0.39607844, 0.40392157, 0.50980395, 0.3058823...</td>\n",
       "      <td>[0.1764706, 0.21568628, 0.36078432, 0.18431373...</td>\n",
       "    </tr>\n",
       "    <tr>\n",
       "      <th>5573</th>\n",
       "      <td>5573</td>\n",
       "      <td>dog005573.jpg</td>\n",
       "      <td>young</td>\n",
       "      <td>./data_sources/images/processed_dogs/dog005573...</td>\n",
       "      <td>[[[0.007843138, 0.007843138, 0.007843138], [0....</td>\n",
       "      <td>[0.007843138, 0.003921569, 0.003921569, 0.0039...</td>\n",
       "      <td>[0.007843138, 0.003921569, 0.003921569, 0.0039...</td>\n",
       "      <td>[0.007843138, 0.003921569, 0.003921569, 0.0039...</td>\n",
       "    </tr>\n",
       "    <tr>\n",
       "      <th>5574</th>\n",
       "      <td>5574</td>\n",
       "      <td>dog005574.jpg</td>\n",
       "      <td>young</td>\n",
       "      <td>./data_sources/images/processed_dogs/dog005574...</td>\n",
       "      <td>[[[0.16078432, 0.12156863, 0.08235294], [0.160...</td>\n",
       "      <td>[0.16078432, 0.16078432, 0.16470589, 0.1725490...</td>\n",
       "      <td>[0.12156863, 0.12156863, 0.1254902, 0.13333334...</td>\n",
       "      <td>[0.08235294, 0.08235294, 0.08627451, 0.0941176...</td>\n",
       "    </tr>\n",
       "  </tbody>\n",
       "</table>\n",
       "<p>5453 rows × 8 columns</p>\n",
       "</div>"
      ],
      "text/plain": [
       "      index  fileDirectory        label  \\\n",
       "0         0  dog000000.jpg  middle-aged   \n",
       "1         1  dog000001.jpg  middle-aged   \n",
       "2         2  dog000002.jpg  middle-aged   \n",
       "3         3  dog000003.jpg          old   \n",
       "4         4  dog000004.jpg  middle-aged   \n",
       "...     ...            ...          ...   \n",
       "5570   5570  dog005570.jpg        young   \n",
       "5571   5571  dog005571.jpg  middle-aged   \n",
       "5572   5572  dog005572.jpg  middle-aged   \n",
       "5573   5573  dog005573.jpg        young   \n",
       "5574   5574  dog005574.jpg        young   \n",
       "\n",
       "                                           fullFilePath  \\\n",
       "0     ./data_sources/images/processed_dogs/dog000000...   \n",
       "1     ./data_sources/images/processed_dogs/dog000001...   \n",
       "2     ./data_sources/images/processed_dogs/dog000002...   \n",
       "3     ./data_sources/images/processed_dogs/dog000003...   \n",
       "4     ./data_sources/images/processed_dogs/dog000004...   \n",
       "...                                                 ...   \n",
       "5570  ./data_sources/images/processed_dogs/dog005570...   \n",
       "5571  ./data_sources/images/processed_dogs/dog005571...   \n",
       "5572  ./data_sources/images/processed_dogs/dog005572...   \n",
       "5573  ./data_sources/images/processed_dogs/dog005573...   \n",
       "5574  ./data_sources/images/processed_dogs/dog005574...   \n",
       "\n",
       "                                               RGB_data  \\\n",
       "0     [[[0.49411765, 0.43137255, 0.43529412], [0.501...   \n",
       "1     [[[0.28235295, 0.39215687, 0.4862745], [0.3098...   \n",
       "2     [[[0.32156864, 0.078431375, 0.13725491], [0.32...   \n",
       "3     [[[1.0, 0.99607843, 1.0], [0.9529412, 0.933333...   \n",
       "4     [[[0.011764706, 0.011764706, 0.011764706], [0....   \n",
       "...                                                 ...   \n",
       "5570  [[[0.39607844, 0.40392157, 0.4], [0.39607844, ...   \n",
       "5571  [[[0.023529412, 0.023529412, 0.023529412], [0....   \n",
       "5572  [[[0.6117647, 0.39607844, 0.1764706], [0.63137...   \n",
       "5573  [[[0.007843138, 0.007843138, 0.007843138], [0....   \n",
       "5574  [[[0.16078432, 0.12156863, 0.08235294], [0.160...   \n",
       "\n",
       "                                                 R_data  \\\n",
       "0     [0.49411765, 0.5019608, 0.39607844, 0.43137255...   \n",
       "1     [0.28235295, 0.30980393, 0.30980393, 0.2784314...   \n",
       "2     [0.32156864, 0.32156864, 0.32156864, 0.3098039...   \n",
       "3     [1.0, 0.9529412, 1.0, 0.9490196, 0.9843137, 1....   \n",
       "4     [0.011764706, 0.011764706, 0.011764706, 0.0078...   \n",
       "...                                                 ...   \n",
       "5570  [0.39607844, 0.39607844, 0.4, 0.4, 0.40392157,...   \n",
       "5571  [0.023529412, 0.023529412, 0.023529412, 0.0235...   \n",
       "5572  [0.6117647, 0.6313726, 0.72156864, 0.43529412,...   \n",
       "5573  [0.007843138, 0.003921569, 0.003921569, 0.0039...   \n",
       "5574  [0.16078432, 0.16078432, 0.16470589, 0.1725490...   \n",
       "\n",
       "                                                 G_data  \\\n",
       "0     [0.43137255, 0.4392157, 0.33333334, 0.36862746...   \n",
       "1     [0.39215687, 0.41960785, 0.41960785, 0.3882353...   \n",
       "2     [0.078431375, 0.078431375, 0.07058824, 0.05882...   \n",
       "3     [0.99607843, 0.93333334, 0.99215686, 0.9137255...   \n",
       "4     [0.011764706, 0.011764706, 0.011764706, 0.0078...   \n",
       "...                                                 ...   \n",
       "5570  [0.40392157, 0.40392157, 0.40784314, 0.4078431...   \n",
       "5571  [0.023529412, 0.023529412, 0.023529412, 0.0235...   \n",
       "5572  [0.39607844, 0.40392157, 0.50980395, 0.3058823...   \n",
       "5573  [0.007843138, 0.003921569, 0.003921569, 0.0039...   \n",
       "5574  [0.12156863, 0.12156863, 0.1254902, 0.13333334...   \n",
       "\n",
       "                                                 B_data  \n",
       "0     [0.43529412, 0.44313726, 0.3372549, 0.37254903...  \n",
       "1     [0.4862745, 0.5137255, 0.5137255, 0.48235294, ...  \n",
       "2     [0.13725491, 0.13725491, 0.13333334, 0.1215686...  \n",
       "3     [1.0, 0.9490196, 1.0, 0.93333334, 0.95686275, ...  \n",
       "4     [0.011764706, 0.011764706, 0.011764706, 0.0078...  \n",
       "...                                                 ...  \n",
       "5570  [0.4, 0.4, 0.40392157, 0.40392157, 0.40784314,...  \n",
       "5571  [0.023529412, 0.023529412, 0.023529412, 0.0235...  \n",
       "5572  [0.1764706, 0.21568628, 0.36078432, 0.18431373...  \n",
       "5573  [0.007843138, 0.003921569, 0.003921569, 0.0039...  \n",
       "5574  [0.08235294, 0.08235294, 0.08627451, 0.0941176...  \n",
       "\n",
       "[5453 rows x 8 columns]"
      ]
     },
     "execution_count": 4,
     "metadata": {},
     "output_type": "execute_result"
    }
   ],
   "source": [
    "# data preprocessing\n",
    "loaded_images = []\n",
    "r_data = []\n",
    "g_data = []\n",
    "b_data = []\n",
    "\n",
    "for imageFilePath in dogCSV[\"fullFilePath\"]:\n",
    "    img = load_img(imageFilePath, target_size=(150, 150), color_mode='rgb')\n",
    "    img_array = img_to_array(img) / 255.0\n",
    "    imageData = np.array(img_array)\n",
    "    loaded_images.append(imageData)\n",
    "    r_data.append(np.array(imageData[:, :, 0]).flatten())\n",
    "    g_data.append(np.array(imageData[:, :, 1]).flatten())\n",
    "    b_data.append(np.array(imageData[:, :, 2]).flatten())    \n",
    "    \n",
    "dogCSV[\"RGB_data\"] = loaded_images\n",
    "dogCSV[\"R_data\"] = r_data\n",
    "dogCSV[\"G_data\"] = g_data\n",
    "dogCSV[\"B_data\"] = b_data\n",
    "\n",
    "dogCSV"
   ]
  },
  {
   "cell_type": "markdown",
   "id": "9ddf75fd-ceff-4254-ac33-a52777cfc0ab",
   "metadata": {},
   "source": [
    "Defining the VAE \n",
    "================="
   ]
  },
  {
   "cell_type": "code",
   "execution_count": 178,
   "id": "8522e981-e364-4278-90fb-67b9ec9393d7",
   "metadata": {
    "tags": []
   },
   "outputs": [],
   "source": [
    "# Initializing parameters for the VAE neural network\n",
    "input_shape = (150, 150, 3)\n",
    "batch_size = 32\n",
    "latent_dimension = 10\n",
    "\n",
    "# Adapted from https://medium.com/@judyyes10/generate-images-using-variational-autoencoder-vae-4d429d9bdb5 and ENSC 413 provided VAE code\n",
    "class SamplingLayer(keras.layers.Layer):\n",
    "    def call(self, inputs):\n",
    "        z_mean, z_log_var = inputs\n",
    "        batch = z_mean.shape[0]\n",
    "        epsilon = keras.random.normal(shape = (1, latent_dimension), mean=0.0, stddev=1.0)\n",
    "        # print(epsilon)\n",
    "        \n",
    "        return z_mean + keras.ops.exp(0.5 * z_log_var) * epsilon"
   ]
  },
  {
   "cell_type": "code",
   "execution_count": 186,
   "id": "f03768c5-ee65-4672-885b-d26a1c5322e9",
   "metadata": {},
   "outputs": [
    {
     "name": "stdout",
     "output_type": "stream",
     "text": [
      "Encoder output shape: (None, 25, 25, 256)\n"
     ]
    }
   ],
   "source": [
    "# Encoder Definition\n",
    "encoder_input = keras.layers.Input(input_shape)\n",
    "encoder = keras.layers.Conv2D(filters=180, kernel_size=5, padding=\"same\", activation=\"relu\")(encoder_input)\n",
    "encoder = keras.layers.Conv2D(filters=256, kernel_size=5, strides=(2, 2), padding=\"same\", activation=\"relu\")(encoder)\n",
    "encoder = keras.layers.Conv2D(filters=256, kernel_size=5, strides=(3, 3), padding=\"same\", activation=\"relu\")(encoder)\n",
    "encoder = keras.layers.Conv2D(filters=256, kernel_size=3, padding=\"same\", activation=\"relu\")(encoder)\n",
    "\n",
    "encoderOutputShape = encoder.shape\n",
    "print(\"Encoder output shape: {}\".format(encoderOutputShape))\n",
    "\n",
    "encoder = keras.layers.Flatten()(encoder)\n",
    "encoder = keras.layers.Dense(180, activation=\"relu\")(encoder)"
   ]
  },
  {
   "cell_type": "code",
   "execution_count": 189,
   "id": "fbff61aa-d792-4aef-8f7c-ae8fa8c2e49b",
   "metadata": {
    "tags": []
   },
   "outputs": [
    {
     "name": "stdout",
     "output_type": "stream",
     "text": [
      "Shape of z_mean: (None, 10)\n",
      "Shape of z_log_var: (None, 10)\n",
      "Shape of z: (None, 10)\n",
      "\n",
      "\n"
     ]
    },
    {
     "data": {
      "text/html": [
       "<pre style=\"white-space:pre;overflow-x:auto;line-height:normal;font-family:Menlo,'DejaVu Sans Mono',consolas,'Courier New',monospace\"><span style=\"font-weight: bold\">Model: \"encoder\"</span>\n",
       "</pre>\n"
      ],
      "text/plain": [
       "\u001b[1mModel: \"encoder\"\u001b[0m\n"
      ]
     },
     "metadata": {},
     "output_type": "display_data"
    },
    {
     "data": {
      "text/html": [
       "<pre style=\"white-space:pre;overflow-x:auto;line-height:normal;font-family:Menlo,'DejaVu Sans Mono',consolas,'Courier New',monospace\">┏━━━━━━━━━━━━━━━━━━━━━━━━━━━━━━━┳━━━━━━━━━━━━━━━━━━━━━━━━━━━┳━━━━━━━━━━━━━━━━━┳━━━━━━━━━━━━━━━━━━━━━━━━━━━━┓\n",
       "┃<span style=\"font-weight: bold\"> Layer (type)                  </span>┃<span style=\"font-weight: bold\"> Output Shape              </span>┃<span style=\"font-weight: bold\">         Param # </span>┃<span style=\"font-weight: bold\"> Connected to               </span>┃\n",
       "┡━━━━━━━━━━━━━━━━━━━━━━━━━━━━━━━╇━━━━━━━━━━━━━━━━━━━━━━━━━━━╇━━━━━━━━━━━━━━━━━╇━━━━━━━━━━━━━━━━━━━━━━━━━━━━┩\n",
       "│ input_layer_48 (<span style=\"color: #0087ff; text-decoration-color: #0087ff\">InputLayer</span>)   │ (<span style=\"color: #00d7ff; text-decoration-color: #00d7ff\">None</span>, <span style=\"color: #00af00; text-decoration-color: #00af00\">150</span>, <span style=\"color: #00af00; text-decoration-color: #00af00\">150</span>, <span style=\"color: #00af00; text-decoration-color: #00af00\">3</span>)       │               <span style=\"color: #00af00; text-decoration-color: #00af00\">0</span> │ -                          │\n",
       "├───────────────────────────────┼───────────────────────────┼─────────────────┼────────────────────────────┤\n",
       "│ conv2d_107 (<span style=\"color: #0087ff; text-decoration-color: #0087ff\">Conv2D</span>)           │ (<span style=\"color: #00d7ff; text-decoration-color: #00d7ff\">None</span>, <span style=\"color: #00af00; text-decoration-color: #00af00\">150</span>, <span style=\"color: #00af00; text-decoration-color: #00af00\">150</span>, <span style=\"color: #00af00; text-decoration-color: #00af00\">180</span>)     │          <span style=\"color: #00af00; text-decoration-color: #00af00\">13,680</span> │ input_layer_48[<span style=\"color: #00af00; text-decoration-color: #00af00\">0</span>][<span style=\"color: #00af00; text-decoration-color: #00af00\">0</span>]       │\n",
       "├───────────────────────────────┼───────────────────────────┼─────────────────┼────────────────────────────┤\n",
       "│ conv2d_108 (<span style=\"color: #0087ff; text-decoration-color: #0087ff\">Conv2D</span>)           │ (<span style=\"color: #00d7ff; text-decoration-color: #00d7ff\">None</span>, <span style=\"color: #00af00; text-decoration-color: #00af00\">75</span>, <span style=\"color: #00af00; text-decoration-color: #00af00\">75</span>, <span style=\"color: #00af00; text-decoration-color: #00af00\">256</span>)       │       <span style=\"color: #00af00; text-decoration-color: #00af00\">1,152,256</span> │ conv2d_107[<span style=\"color: #00af00; text-decoration-color: #00af00\">0</span>][<span style=\"color: #00af00; text-decoration-color: #00af00\">0</span>]           │\n",
       "├───────────────────────────────┼───────────────────────────┼─────────────────┼────────────────────────────┤\n",
       "│ conv2d_109 (<span style=\"color: #0087ff; text-decoration-color: #0087ff\">Conv2D</span>)           │ (<span style=\"color: #00d7ff; text-decoration-color: #00d7ff\">None</span>, <span style=\"color: #00af00; text-decoration-color: #00af00\">25</span>, <span style=\"color: #00af00; text-decoration-color: #00af00\">25</span>, <span style=\"color: #00af00; text-decoration-color: #00af00\">256</span>)       │       <span style=\"color: #00af00; text-decoration-color: #00af00\">1,638,656</span> │ conv2d_108[<span style=\"color: #00af00; text-decoration-color: #00af00\">0</span>][<span style=\"color: #00af00; text-decoration-color: #00af00\">0</span>]           │\n",
       "├───────────────────────────────┼───────────────────────────┼─────────────────┼────────────────────────────┤\n",
       "│ conv2d_110 (<span style=\"color: #0087ff; text-decoration-color: #0087ff\">Conv2D</span>)           │ (<span style=\"color: #00d7ff; text-decoration-color: #00d7ff\">None</span>, <span style=\"color: #00af00; text-decoration-color: #00af00\">25</span>, <span style=\"color: #00af00; text-decoration-color: #00af00\">25</span>, <span style=\"color: #00af00; text-decoration-color: #00af00\">256</span>)       │         <span style=\"color: #00af00; text-decoration-color: #00af00\">590,080</span> │ conv2d_109[<span style=\"color: #00af00; text-decoration-color: #00af00\">0</span>][<span style=\"color: #00af00; text-decoration-color: #00af00\">0</span>]           │\n",
       "├───────────────────────────────┼───────────────────────────┼─────────────────┼────────────────────────────┤\n",
       "│ flatten_25 (<span style=\"color: #0087ff; text-decoration-color: #0087ff\">Flatten</span>)          │ (<span style=\"color: #00d7ff; text-decoration-color: #00d7ff\">None</span>, <span style=\"color: #00af00; text-decoration-color: #00af00\">160000</span>)            │               <span style=\"color: #00af00; text-decoration-color: #00af00\">0</span> │ conv2d_110[<span style=\"color: #00af00; text-decoration-color: #00af00\">0</span>][<span style=\"color: #00af00; text-decoration-color: #00af00\">0</span>]           │\n",
       "├───────────────────────────────┼───────────────────────────┼─────────────────┼────────────────────────────┤\n",
       "│ dense_136 (<span style=\"color: #0087ff; text-decoration-color: #0087ff\">Dense</span>)             │ (<span style=\"color: #00d7ff; text-decoration-color: #00d7ff\">None</span>, <span style=\"color: #00af00; text-decoration-color: #00af00\">180</span>)               │      <span style=\"color: #00af00; text-decoration-color: #00af00\">28,800,180</span> │ flatten_25[<span style=\"color: #00af00; text-decoration-color: #00af00\">0</span>][<span style=\"color: #00af00; text-decoration-color: #00af00\">0</span>]           │\n",
       "├───────────────────────────────┼───────────────────────────┼─────────────────┼────────────────────────────┤\n",
       "│ z_mean (<span style=\"color: #0087ff; text-decoration-color: #0087ff\">Dense</span>)                │ (<span style=\"color: #00d7ff; text-decoration-color: #00d7ff\">None</span>, <span style=\"color: #00af00; text-decoration-color: #00af00\">10</span>)                │           <span style=\"color: #00af00; text-decoration-color: #00af00\">1,810</span> │ dense_136[<span style=\"color: #00af00; text-decoration-color: #00af00\">0</span>][<span style=\"color: #00af00; text-decoration-color: #00af00\">0</span>]            │\n",
       "├───────────────────────────────┼───────────────────────────┼─────────────────┼────────────────────────────┤\n",
       "│ z_log_var (<span style=\"color: #0087ff; text-decoration-color: #0087ff\">Dense</span>)             │ (<span style=\"color: #00d7ff; text-decoration-color: #00d7ff\">None</span>, <span style=\"color: #00af00; text-decoration-color: #00af00\">10</span>)                │           <span style=\"color: #00af00; text-decoration-color: #00af00\">1,810</span> │ dense_136[<span style=\"color: #00af00; text-decoration-color: #00af00\">0</span>][<span style=\"color: #00af00; text-decoration-color: #00af00\">0</span>]            │\n",
       "├───────────────────────────────┼───────────────────────────┼─────────────────┼────────────────────────────┤\n",
       "│ sampling_layer_41             │ (<span style=\"color: #00d7ff; text-decoration-color: #00d7ff\">None</span>, <span style=\"color: #00af00; text-decoration-color: #00af00\">10</span>)                │               <span style=\"color: #00af00; text-decoration-color: #00af00\">0</span> │ z_mean[<span style=\"color: #00af00; text-decoration-color: #00af00\">0</span>][<span style=\"color: #00af00; text-decoration-color: #00af00\">0</span>],              │\n",
       "│ (<span style=\"color: #0087ff; text-decoration-color: #0087ff\">SamplingLayer</span>)               │                           │                 │ z_log_var[<span style=\"color: #00af00; text-decoration-color: #00af00\">0</span>][<span style=\"color: #00af00; text-decoration-color: #00af00\">0</span>]            │\n",
       "└───────────────────────────────┴───────────────────────────┴─────────────────┴────────────────────────────┘\n",
       "</pre>\n"
      ],
      "text/plain": [
       "┏━━━━━━━━━━━━━━━━━━━━━━━━━━━━━━━┳━━━━━━━━━━━━━━━━━━━━━━━━━━━┳━━━━━━━━━━━━━━━━━┳━━━━━━━━━━━━━━━━━━━━━━━━━━━━┓\n",
       "┃\u001b[1m \u001b[0m\u001b[1mLayer (type)                 \u001b[0m\u001b[1m \u001b[0m┃\u001b[1m \u001b[0m\u001b[1mOutput Shape             \u001b[0m\u001b[1m \u001b[0m┃\u001b[1m \u001b[0m\u001b[1m        Param #\u001b[0m\u001b[1m \u001b[0m┃\u001b[1m \u001b[0m\u001b[1mConnected to              \u001b[0m\u001b[1m \u001b[0m┃\n",
       "┡━━━━━━━━━━━━━━━━━━━━━━━━━━━━━━━╇━━━━━━━━━━━━━━━━━━━━━━━━━━━╇━━━━━━━━━━━━━━━━━╇━━━━━━━━━━━━━━━━━━━━━━━━━━━━┩\n",
       "│ input_layer_48 (\u001b[38;5;33mInputLayer\u001b[0m)   │ (\u001b[38;5;45mNone\u001b[0m, \u001b[38;5;34m150\u001b[0m, \u001b[38;5;34m150\u001b[0m, \u001b[38;5;34m3\u001b[0m)       │               \u001b[38;5;34m0\u001b[0m │ -                          │\n",
       "├───────────────────────────────┼───────────────────────────┼─────────────────┼────────────────────────────┤\n",
       "│ conv2d_107 (\u001b[38;5;33mConv2D\u001b[0m)           │ (\u001b[38;5;45mNone\u001b[0m, \u001b[38;5;34m150\u001b[0m, \u001b[38;5;34m150\u001b[0m, \u001b[38;5;34m180\u001b[0m)     │          \u001b[38;5;34m13,680\u001b[0m │ input_layer_48[\u001b[38;5;34m0\u001b[0m][\u001b[38;5;34m0\u001b[0m]       │\n",
       "├───────────────────────────────┼───────────────────────────┼─────────────────┼────────────────────────────┤\n",
       "│ conv2d_108 (\u001b[38;5;33mConv2D\u001b[0m)           │ (\u001b[38;5;45mNone\u001b[0m, \u001b[38;5;34m75\u001b[0m, \u001b[38;5;34m75\u001b[0m, \u001b[38;5;34m256\u001b[0m)       │       \u001b[38;5;34m1,152,256\u001b[0m │ conv2d_107[\u001b[38;5;34m0\u001b[0m][\u001b[38;5;34m0\u001b[0m]           │\n",
       "├───────────────────────────────┼───────────────────────────┼─────────────────┼────────────────────────────┤\n",
       "│ conv2d_109 (\u001b[38;5;33mConv2D\u001b[0m)           │ (\u001b[38;5;45mNone\u001b[0m, \u001b[38;5;34m25\u001b[0m, \u001b[38;5;34m25\u001b[0m, \u001b[38;5;34m256\u001b[0m)       │       \u001b[38;5;34m1,638,656\u001b[0m │ conv2d_108[\u001b[38;5;34m0\u001b[0m][\u001b[38;5;34m0\u001b[0m]           │\n",
       "├───────────────────────────────┼───────────────────────────┼─────────────────┼────────────────────────────┤\n",
       "│ conv2d_110 (\u001b[38;5;33mConv2D\u001b[0m)           │ (\u001b[38;5;45mNone\u001b[0m, \u001b[38;5;34m25\u001b[0m, \u001b[38;5;34m25\u001b[0m, \u001b[38;5;34m256\u001b[0m)       │         \u001b[38;5;34m590,080\u001b[0m │ conv2d_109[\u001b[38;5;34m0\u001b[0m][\u001b[38;5;34m0\u001b[0m]           │\n",
       "├───────────────────────────────┼───────────────────────────┼─────────────────┼────────────────────────────┤\n",
       "│ flatten_25 (\u001b[38;5;33mFlatten\u001b[0m)          │ (\u001b[38;5;45mNone\u001b[0m, \u001b[38;5;34m160000\u001b[0m)            │               \u001b[38;5;34m0\u001b[0m │ conv2d_110[\u001b[38;5;34m0\u001b[0m][\u001b[38;5;34m0\u001b[0m]           │\n",
       "├───────────────────────────────┼───────────────────────────┼─────────────────┼────────────────────────────┤\n",
       "│ dense_136 (\u001b[38;5;33mDense\u001b[0m)             │ (\u001b[38;5;45mNone\u001b[0m, \u001b[38;5;34m180\u001b[0m)               │      \u001b[38;5;34m28,800,180\u001b[0m │ flatten_25[\u001b[38;5;34m0\u001b[0m][\u001b[38;5;34m0\u001b[0m]           │\n",
       "├───────────────────────────────┼───────────────────────────┼─────────────────┼────────────────────────────┤\n",
       "│ z_mean (\u001b[38;5;33mDense\u001b[0m)                │ (\u001b[38;5;45mNone\u001b[0m, \u001b[38;5;34m10\u001b[0m)                │           \u001b[38;5;34m1,810\u001b[0m │ dense_136[\u001b[38;5;34m0\u001b[0m][\u001b[38;5;34m0\u001b[0m]            │\n",
       "├───────────────────────────────┼───────────────────────────┼─────────────────┼────────────────────────────┤\n",
       "│ z_log_var (\u001b[38;5;33mDense\u001b[0m)             │ (\u001b[38;5;45mNone\u001b[0m, \u001b[38;5;34m10\u001b[0m)                │           \u001b[38;5;34m1,810\u001b[0m │ dense_136[\u001b[38;5;34m0\u001b[0m][\u001b[38;5;34m0\u001b[0m]            │\n",
       "├───────────────────────────────┼───────────────────────────┼─────────────────┼────────────────────────────┤\n",
       "│ sampling_layer_41             │ (\u001b[38;5;45mNone\u001b[0m, \u001b[38;5;34m10\u001b[0m)                │               \u001b[38;5;34m0\u001b[0m │ z_mean[\u001b[38;5;34m0\u001b[0m][\u001b[38;5;34m0\u001b[0m],              │\n",
       "│ (\u001b[38;5;33mSamplingLayer\u001b[0m)               │                           │                 │ z_log_var[\u001b[38;5;34m0\u001b[0m][\u001b[38;5;34m0\u001b[0m]            │\n",
       "└───────────────────────────────┴───────────────────────────┴─────────────────┴────────────────────────────┘\n"
      ]
     },
     "metadata": {},
     "output_type": "display_data"
    },
    {
     "data": {
      "text/html": [
       "<pre style=\"white-space:pre;overflow-x:auto;line-height:normal;font-family:Menlo,'DejaVu Sans Mono',consolas,'Courier New',monospace\"><span style=\"font-weight: bold\"> Total params: </span><span style=\"color: #00af00; text-decoration-color: #00af00\">32,198,472</span> (122.83 MB)\n",
       "</pre>\n"
      ],
      "text/plain": [
       "\u001b[1m Total params: \u001b[0m\u001b[38;5;34m32,198,472\u001b[0m (122.83 MB)\n"
      ]
     },
     "metadata": {},
     "output_type": "display_data"
    },
    {
     "data": {
      "text/html": [
       "<pre style=\"white-space:pre;overflow-x:auto;line-height:normal;font-family:Menlo,'DejaVu Sans Mono',consolas,'Courier New',monospace\"><span style=\"font-weight: bold\"> Trainable params: </span><span style=\"color: #00af00; text-decoration-color: #00af00\">32,198,472</span> (122.83 MB)\n",
       "</pre>\n"
      ],
      "text/plain": [
       "\u001b[1m Trainable params: \u001b[0m\u001b[38;5;34m32,198,472\u001b[0m (122.83 MB)\n"
      ]
     },
     "metadata": {},
     "output_type": "display_data"
    },
    {
     "data": {
      "text/html": [
       "<pre style=\"white-space:pre;overflow-x:auto;line-height:normal;font-family:Menlo,'DejaVu Sans Mono',consolas,'Courier New',monospace\"><span style=\"font-weight: bold\"> Non-trainable params: </span><span style=\"color: #00af00; text-decoration-color: #00af00\">0</span> (0.00 B)\n",
       "</pre>\n"
      ],
      "text/plain": [
       "\u001b[1m Non-trainable params: \u001b[0m\u001b[38;5;34m0\u001b[0m (0.00 B)\n"
      ]
     },
     "metadata": {},
     "output_type": "display_data"
    }
   ],
   "source": [
    "# latent vector (both z_mean and the log_variance is determined by the input conv2D layers)\n",
    "z_mean = keras.layers.Dense(latent_dimension, name=\"z_mean\")(encoder)\n",
    "z_log_var = keras.layers.Dense(latent_dimension, name=\"z_log_var\")(encoder)\n",
    "\n",
    "print(\"Shape of z_mean: {}\".format(z_mean.shape))\n",
    "print(\"Shape of z_log_var: {}\".format(z_log_var.shape))\n",
    "\n",
    "# sampling from latent vector\n",
    "z = SamplingLayer()([z_mean, z_log_var])\n",
    "\n",
    "print(\"Shape of z: {}\\n\\n\".format(z.shape))\n",
    "\n",
    "encoderModel = keras.models.Model(encoder_input, [z_mean, z_log_var, z], name=\"encoder\")\n",
    "encoderModel.summary()"
   ]
  },
  {
   "cell_type": "code",
   "execution_count": 188,
   "id": "d0a91d96-51bd-4c5f-9516-202b6bfa5f65",
   "metadata": {
    "tags": []
   },
   "outputs": [
    {
     "data": {
      "text/html": [
       "<pre style=\"white-space:pre;overflow-x:auto;line-height:normal;font-family:Menlo,'DejaVu Sans Mono',consolas,'Courier New',monospace\"><span style=\"font-weight: bold\">Model: \"decoder\"</span>\n",
       "</pre>\n"
      ],
      "text/plain": [
       "\u001b[1mModel: \"decoder\"\u001b[0m\n"
      ]
     },
     "metadata": {},
     "output_type": "display_data"
    },
    {
     "data": {
      "text/html": [
       "<pre style=\"white-space:pre;overflow-x:auto;line-height:normal;font-family:Menlo,'DejaVu Sans Mono',consolas,'Courier New',monospace\">┏━━━━━━━━━━━━━━━━━━━━━━━━━━━━━━━━━━━━━━┳━━━━━━━━━━━━━━━━━━━━━━━━━━━━━┳━━━━━━━━━━━━━━━━━┓\n",
       "┃<span style=\"font-weight: bold\"> Layer (type)                         </span>┃<span style=\"font-weight: bold\"> Output Shape                </span>┃<span style=\"font-weight: bold\">         Param # </span>┃\n",
       "┡━━━━━━━━━━━━━━━━━━━━━━━━━━━━━━━━━━━━━━╇━━━━━━━━━━━━━━━━━━━━━━━━━━━━━╇━━━━━━━━━━━━━━━━━┩\n",
       "│ input_layer_49 (<span style=\"color: #0087ff; text-decoration-color: #0087ff\">InputLayer</span>)          │ (<span style=\"color: #00d7ff; text-decoration-color: #00d7ff\">None</span>, <span style=\"color: #00af00; text-decoration-color: #00af00\">10</span>)                  │               <span style=\"color: #00af00; text-decoration-color: #00af00\">0</span> │\n",
       "├──────────────────────────────────────┼─────────────────────────────┼─────────────────┤\n",
       "│ dense_137 (<span style=\"color: #0087ff; text-decoration-color: #0087ff\">Dense</span>)                    │ (<span style=\"color: #00d7ff; text-decoration-color: #00d7ff\">None</span>, <span style=\"color: #00af00; text-decoration-color: #00af00\">160000</span>)              │       <span style=\"color: #00af00; text-decoration-color: #00af00\">1,760,000</span> │\n",
       "├──────────────────────────────────────┼─────────────────────────────┼─────────────────┤\n",
       "│ reshape_21 (<span style=\"color: #0087ff; text-decoration-color: #0087ff\">Reshape</span>)                 │ (<span style=\"color: #00d7ff; text-decoration-color: #00d7ff\">None</span>, <span style=\"color: #00af00; text-decoration-color: #00af00\">25</span>, <span style=\"color: #00af00; text-decoration-color: #00af00\">25</span>, <span style=\"color: #00af00; text-decoration-color: #00af00\">256</span>)         │               <span style=\"color: #00af00; text-decoration-color: #00af00\">0</span> │\n",
       "├──────────────────────────────────────┼─────────────────────────────┼─────────────────┤\n",
       "│ conv2d_transpose_45                  │ (<span style=\"color: #00d7ff; text-decoration-color: #00d7ff\">None</span>, <span style=\"color: #00af00; text-decoration-color: #00af00\">25</span>, <span style=\"color: #00af00; text-decoration-color: #00af00\">25</span>, <span style=\"color: #00af00; text-decoration-color: #00af00\">256</span>)         │         <span style=\"color: #00af00; text-decoration-color: #00af00\">590,080</span> │\n",
       "│ (<span style=\"color: #0087ff; text-decoration-color: #0087ff\">Conv2DTranspose</span>)                    │                             │                 │\n",
       "├──────────────────────────────────────┼─────────────────────────────┼─────────────────┤\n",
       "│ conv2d_transpose_46                  │ (<span style=\"color: #00d7ff; text-decoration-color: #00d7ff\">None</span>, <span style=\"color: #00af00; text-decoration-color: #00af00\">75</span>, <span style=\"color: #00af00; text-decoration-color: #00af00\">75</span>, <span style=\"color: #00af00; text-decoration-color: #00af00\">256</span>)         │       <span style=\"color: #00af00; text-decoration-color: #00af00\">1,638,656</span> │\n",
       "│ (<span style=\"color: #0087ff; text-decoration-color: #0087ff\">Conv2DTranspose</span>)                    │                             │                 │\n",
       "├──────────────────────────────────────┼─────────────────────────────┼─────────────────┤\n",
       "│ conv2d_transpose_47                  │ (<span style=\"color: #00d7ff; text-decoration-color: #00d7ff\">None</span>, <span style=\"color: #00af00; text-decoration-color: #00af00\">150</span>, <span style=\"color: #00af00; text-decoration-color: #00af00\">150</span>, <span style=\"color: #00af00; text-decoration-color: #00af00\">180</span>)       │       <span style=\"color: #00af00; text-decoration-color: #00af00\">1,152,180</span> │\n",
       "│ (<span style=\"color: #0087ff; text-decoration-color: #0087ff\">Conv2DTranspose</span>)                    │                             │                 │\n",
       "├──────────────────────────────────────┼─────────────────────────────┼─────────────────┤\n",
       "│ conv2d_transpose_48                  │ (<span style=\"color: #00d7ff; text-decoration-color: #00d7ff\">None</span>, <span style=\"color: #00af00; text-decoration-color: #00af00\">150</span>, <span style=\"color: #00af00; text-decoration-color: #00af00\">150</span>, <span style=\"color: #00af00; text-decoration-color: #00af00\">3</span>)         │           <span style=\"color: #00af00; text-decoration-color: #00af00\">4,863</span> │\n",
       "│ (<span style=\"color: #0087ff; text-decoration-color: #0087ff\">Conv2DTranspose</span>)                    │                             │                 │\n",
       "└──────────────────────────────────────┴─────────────────────────────┴─────────────────┘\n",
       "</pre>\n"
      ],
      "text/plain": [
       "┏━━━━━━━━━━━━━━━━━━━━━━━━━━━━━━━━━━━━━━┳━━━━━━━━━━━━━━━━━━━━━━━━━━━━━┳━━━━━━━━━━━━━━━━━┓\n",
       "┃\u001b[1m \u001b[0m\u001b[1mLayer (type)                        \u001b[0m\u001b[1m \u001b[0m┃\u001b[1m \u001b[0m\u001b[1mOutput Shape               \u001b[0m\u001b[1m \u001b[0m┃\u001b[1m \u001b[0m\u001b[1m        Param #\u001b[0m\u001b[1m \u001b[0m┃\n",
       "┡━━━━━━━━━━━━━━━━━━━━━━━━━━━━━━━━━━━━━━╇━━━━━━━━━━━━━━━━━━━━━━━━━━━━━╇━━━━━━━━━━━━━━━━━┩\n",
       "│ input_layer_49 (\u001b[38;5;33mInputLayer\u001b[0m)          │ (\u001b[38;5;45mNone\u001b[0m, \u001b[38;5;34m10\u001b[0m)                  │               \u001b[38;5;34m0\u001b[0m │\n",
       "├──────────────────────────────────────┼─────────────────────────────┼─────────────────┤\n",
       "│ dense_137 (\u001b[38;5;33mDense\u001b[0m)                    │ (\u001b[38;5;45mNone\u001b[0m, \u001b[38;5;34m160000\u001b[0m)              │       \u001b[38;5;34m1,760,000\u001b[0m │\n",
       "├──────────────────────────────────────┼─────────────────────────────┼─────────────────┤\n",
       "│ reshape_21 (\u001b[38;5;33mReshape\u001b[0m)                 │ (\u001b[38;5;45mNone\u001b[0m, \u001b[38;5;34m25\u001b[0m, \u001b[38;5;34m25\u001b[0m, \u001b[38;5;34m256\u001b[0m)         │               \u001b[38;5;34m0\u001b[0m │\n",
       "├──────────────────────────────────────┼─────────────────────────────┼─────────────────┤\n",
       "│ conv2d_transpose_45                  │ (\u001b[38;5;45mNone\u001b[0m, \u001b[38;5;34m25\u001b[0m, \u001b[38;5;34m25\u001b[0m, \u001b[38;5;34m256\u001b[0m)         │         \u001b[38;5;34m590,080\u001b[0m │\n",
       "│ (\u001b[38;5;33mConv2DTranspose\u001b[0m)                    │                             │                 │\n",
       "├──────────────────────────────────────┼─────────────────────────────┼─────────────────┤\n",
       "│ conv2d_transpose_46                  │ (\u001b[38;5;45mNone\u001b[0m, \u001b[38;5;34m75\u001b[0m, \u001b[38;5;34m75\u001b[0m, \u001b[38;5;34m256\u001b[0m)         │       \u001b[38;5;34m1,638,656\u001b[0m │\n",
       "│ (\u001b[38;5;33mConv2DTranspose\u001b[0m)                    │                             │                 │\n",
       "├──────────────────────────────────────┼─────────────────────────────┼─────────────────┤\n",
       "│ conv2d_transpose_47                  │ (\u001b[38;5;45mNone\u001b[0m, \u001b[38;5;34m150\u001b[0m, \u001b[38;5;34m150\u001b[0m, \u001b[38;5;34m180\u001b[0m)       │       \u001b[38;5;34m1,152,180\u001b[0m │\n",
       "│ (\u001b[38;5;33mConv2DTranspose\u001b[0m)                    │                             │                 │\n",
       "├──────────────────────────────────────┼─────────────────────────────┼─────────────────┤\n",
       "│ conv2d_transpose_48                  │ (\u001b[38;5;45mNone\u001b[0m, \u001b[38;5;34m150\u001b[0m, \u001b[38;5;34m150\u001b[0m, \u001b[38;5;34m3\u001b[0m)         │           \u001b[38;5;34m4,863\u001b[0m │\n",
       "│ (\u001b[38;5;33mConv2DTranspose\u001b[0m)                    │                             │                 │\n",
       "└──────────────────────────────────────┴─────────────────────────────┴─────────────────┘\n"
      ]
     },
     "metadata": {},
     "output_type": "display_data"
    },
    {
     "data": {
      "text/html": [
       "<pre style=\"white-space:pre;overflow-x:auto;line-height:normal;font-family:Menlo,'DejaVu Sans Mono',consolas,'Courier New',monospace\"><span style=\"font-weight: bold\"> Total params: </span><span style=\"color: #00af00; text-decoration-color: #00af00\">5,145,779</span> (19.63 MB)\n",
       "</pre>\n"
      ],
      "text/plain": [
       "\u001b[1m Total params: \u001b[0m\u001b[38;5;34m5,145,779\u001b[0m (19.63 MB)\n"
      ]
     },
     "metadata": {},
     "output_type": "display_data"
    },
    {
     "data": {
      "text/html": [
       "<pre style=\"white-space:pre;overflow-x:auto;line-height:normal;font-family:Menlo,'DejaVu Sans Mono',consolas,'Courier New',monospace\"><span style=\"font-weight: bold\"> Trainable params: </span><span style=\"color: #00af00; text-decoration-color: #00af00\">5,145,779</span> (19.63 MB)\n",
       "</pre>\n"
      ],
      "text/plain": [
       "\u001b[1m Trainable params: \u001b[0m\u001b[38;5;34m5,145,779\u001b[0m (19.63 MB)\n"
      ]
     },
     "metadata": {},
     "output_type": "display_data"
    },
    {
     "data": {
      "text/html": [
       "<pre style=\"white-space:pre;overflow-x:auto;line-height:normal;font-family:Menlo,'DejaVu Sans Mono',consolas,'Courier New',monospace\"><span style=\"font-weight: bold\"> Non-trainable params: </span><span style=\"color: #00af00; text-decoration-color: #00af00\">0</span> (0.00 B)\n",
       "</pre>\n"
      ],
      "text/plain": [
       "\u001b[1m Non-trainable params: \u001b[0m\u001b[38;5;34m0\u001b[0m (0.00 B)\n"
      ]
     },
     "metadata": {},
     "output_type": "display_data"
    }
   ],
   "source": [
    "# Decoder Definition\n",
    "decoder_input = keras.layers.Input(z.shape[1:])\n",
    "decoder = keras.layers.Dense(np.prod(encoderOutputShape[1:]), activation=\"relu\")(decoder_input)\n",
    "decoder = keras.layers.Reshape(encoderOutputShape[1:])(decoder)\n",
    "decoder = keras.layers.Conv2DTranspose(filters = 256, kernel_size= 3, padding=\"same\", activation=\"relu\")(decoder)\n",
    "decoder = keras.layers.Conv2DTranspose(filters = 256, kernel_size= 5, padding=\"same\", activation=\"relu\", strides=(3, 3))(decoder)\n",
    "decoder = keras.layers.Conv2DTranspose(filters = 180, kernel_size= 5, padding=\"same\", activation=\"relu\", strides=(2, 2))(decoder)\n",
    "decoder = keras.layers.Conv2DTranspose(filters = 3, kernel_size=3, padding=\"same\", activation=\"sigmoid\")(decoder)\n",
    "\n",
    "decoderModel = keras.models.Model(decoder_input, decoder, name=\"decoder\")\n",
    "decoderModel.summary()"
   ]
  },
  {
   "cell_type": "code",
   "execution_count": 194,
   "id": "d266a3cb-bc0c-4ad4-97d1-23240f2f05f6",
   "metadata": {
    "tags": []
   },
   "outputs": [],
   "source": [
    "# Adapted from then ENSC413 sample VAE code https://keras.io/examples/generative/vae/\n",
    "\n",
    "# class OutputVariationalLayer(keras.layers.Layer):\n",
    "#     def vae_loss(self, actual_Image, predicted_Image):\n",
    "#         crossEntropyLoss = keras.losses.binary_crossentropy(actual_Image, predicted_Image)\n",
    "#         kullback_Leibler_Loss = -5e-4 * keras.ops.mean(1 + z_log_var - keras.ops.square(z_mean) - keras.ops.exp(z_log_var), axis=-1)\n",
    "#         print(\"Cross Entropy Loss: {}\".format(crossEntropyLoss))\n",
    "#         print(\"Kullback_Leibler_Loss: {}\".format(kullback_Leibler_Loss))\n",
    "#         return keras.ops.mean(crossEntropyLoss + kullback_Leibler_Loss)\n",
    "\n",
    "#     def call(self, inputs):\n",
    "#         trueImage = inputs[0]\n",
    "#         predictedImage = inputs[1]\n",
    "#         loss = self.vae_loss(trueImage, predictedImage)\n",
    "#         print(\"LOSS: {}\".format(loss))\n",
    "#         self.add_loss(loss)\n",
    "#         # self.add_loss(loss, inputs=inputs)\n",
    "#         # We don't use this output.\n",
    "#         return trueImage\n",
    "\n",
    "class VAE(keras.Model):\n",
    "    def __init__(self, encoder, decoder, **kwargs):\n",
    "        super().__init__(**kwargs)\n",
    "        self.encoder = encoder\n",
    "        self.decoder = decoder\n",
    "        self.total_loss_tracker = keras.metrics.Mean(name=\"total_loss\")\n",
    "        self.reconstruction_loss_tracker = keras.metrics.Mean(name=\"reconstruction_loss\")\n",
    "        self.kl_loss_tracker = keras.metrics.Mean(name=\"kl_loss\")\n",
    "        \n",
    "    def metrics(self):\n",
    "        return [self.total_loss_tracker, self.reconstruction_loss_tracker, self.kl_loss_tracker]\n",
    "    \n",
    "    def train_step(self, data):\n",
    "        with tf.GradientTape as tape:\n",
    "            z_mean, z_log_var, z = self.encoder(data)\n",
    "            reconstruction = self.decoder(z)\n",
    "            reconstruction_loss = keras.reduce_mean(tf.reduce_sum(keras.losses.binary_crossentropy(data, reconstruction), axis=(1,2)))\n",
    "            kl_loss = -0.5 * (1 + z_log_var - keras.ops.square(z_mean) - keras.ops.exp(z_log_var))\n",
    "            kl_loss = keras.reduce_mean(keras.reduce_sum(kl_loss, axis=1))\n",
    "            total_loss = reconstruction_loss + kl_loss\n",
    "            gradients = tape.gradient(total_loss, self.trainable_weights)\n",
    "            self.optimizer.apply_gradients(zip(gradients, self.trainable_weights))\n",
    "            self.total_loss_tracker.update_state(total_loss)\n",
    "            self.reconstruction_loss_tracker.update_state(reconstruction_loss)\n",
    "            self.kl_loss_tracker.update_state(kl_loss)\n",
    "            return {\"loss\":self.total_loss_tracker.result(), \"reconstruction_loss\":self.reconstruction_loss_tracker.result(), \"kl_loss\":self.kl_loss_tracker.result()} "
   ]
  },
  {
   "cell_type": "code",
   "execution_count": 224,
   "id": "0fa5dad5-daf7-48bb-a97d-7de560816c09",
   "metadata": {
    "tags": []
   },
   "outputs": [],
   "source": [
    "# splitting the test set and training set (25% test set, 75% training set)\n",
    "imagesData = dogCSV[\"RGB_data\"]\n",
    "imageLabels = dogCSV[\"label\"]\n",
    "\n",
    "X_train, X_test, y_train, y_test = train_test_split(imagesData, imageLabels, test_size=0.25, random_state=42)\n",
    "\n",
    "trainingSet_images = []\n",
    "trainingSet_labels = []\n",
    "\n",
    "for image, label in zip(X_train, y_train):\n",
    "    "
   ]
  },
  {
   "cell_type": "code",
   "execution_count": 208,
   "id": "3ad4f2bb-0af3-4a0c-9001-cc222705e027",
   "metadata": {},
   "outputs": [
    {
     "ename": "ValueError",
     "evalue": "Failed to convert a NumPy array to a Tensor (Unsupported object type numpy.ndarray).",
     "output_type": "error",
     "traceback": [
      "\u001b[1;31m---------------------------------------------------------------------------\u001b[0m",
      "\u001b[1;31mValueError\u001b[0m                                Traceback (most recent call last)",
      "Cell \u001b[1;32mIn[208], line 4\u001b[0m\n\u001b[0;32m      2\u001b[0m vae \u001b[38;5;241m=\u001b[39m VAE(encoder, decoder)\n\u001b[0;32m      3\u001b[0m vae\u001b[38;5;241m.\u001b[39mcompile(optimizer\u001b[38;5;241m=\u001b[39mkeras\u001b[38;5;241m.\u001b[39moptimizers\u001b[38;5;241m.\u001b[39mAdam())\n\u001b[1;32m----> 4\u001b[0m vae\u001b[38;5;241m.\u001b[39mfit(X_train, epochs\u001b[38;5;241m=\u001b[39m\u001b[38;5;241m30\u001b[39m, batch_size\u001b[38;5;241m=\u001b[39m\u001b[38;5;241m256\u001b[39m)\n",
      "File \u001b[1;32mA:\\anaconda3\\Lib\\site-packages\\keras\\src\\utils\\traceback_utils.py:123\u001b[0m, in \u001b[0;36mfilter_traceback.<locals>.error_handler\u001b[1;34m(*args, **kwargs)\u001b[0m\n\u001b[0;32m    120\u001b[0m     filtered_tb \u001b[38;5;241m=\u001b[39m _process_traceback_frames(e\u001b[38;5;241m.\u001b[39m__traceback__)\n\u001b[0;32m    121\u001b[0m     \u001b[38;5;66;03m# To get the full stack trace, call:\u001b[39;00m\n\u001b[0;32m    122\u001b[0m     \u001b[38;5;66;03m# `keras.config.disable_traceback_filtering()`\u001b[39;00m\n\u001b[1;32m--> 123\u001b[0m     \u001b[38;5;28;01mraise\u001b[39;00m e\u001b[38;5;241m.\u001b[39mwith_traceback(filtered_tb) \u001b[38;5;28;01mfrom\u001b[39;00m \u001b[38;5;28;01mNone\u001b[39;00m\n\u001b[0;32m    124\u001b[0m \u001b[38;5;28;01mfinally\u001b[39;00m:\n\u001b[0;32m    125\u001b[0m     \u001b[38;5;28;01mdel\u001b[39;00m filtered_tb\n",
      "File \u001b[1;32mA:\\anaconda3\\Lib\\site-packages\\tensorflow\\python\\framework\\constant_op.py:108\u001b[0m, in \u001b[0;36mconvert_to_eager_tensor\u001b[1;34m(value, ctx, dtype)\u001b[0m\n\u001b[0;32m    106\u001b[0m     dtype \u001b[38;5;241m=\u001b[39m dtypes\u001b[38;5;241m.\u001b[39mas_dtype(dtype)\u001b[38;5;241m.\u001b[39mas_datatype_enum\n\u001b[0;32m    107\u001b[0m ctx\u001b[38;5;241m.\u001b[39mensure_initialized()\n\u001b[1;32m--> 108\u001b[0m \u001b[38;5;28;01mreturn\u001b[39;00m ops\u001b[38;5;241m.\u001b[39mEagerTensor(value, ctx\u001b[38;5;241m.\u001b[39mdevice_name, dtype)\n",
      "\u001b[1;31mValueError\u001b[0m: Failed to convert a NumPy array to a Tensor (Unsupported object type numpy.ndarray)."
     ]
    }
   ],
   "source": [
    "# instatiating a VAE\n",
    "vae = VAE(encoder, decoder)\n",
    "vae.compile(optimizer=keras.optimizers.Adam())\n",
    "vae.fit(X_train, epochs=30, batch_size=256)"
   ]
  },
  {
   "cell_type": "code",
   "execution_count": 198,
   "id": "42765676-c7a9-4863-a056-4565aff1fe04",
   "metadata": {
    "tags": []
   },
   "outputs": [
    {
     "ename": "NameError",
     "evalue": "name 'vaeOutput' is not defined",
     "output_type": "error",
     "traceback": [
      "\u001b[1;31m---------------------------------------------------------------------------\u001b[0m",
      "\u001b[1;31mNameError\u001b[0m                                 Traceback (most recent call last)",
      "Cell \u001b[1;32mIn[198], line 2\u001b[0m\n\u001b[0;32m      1\u001b[0m \u001b[38;5;66;03m# Instantiating a VAE \u001b[39;00m\n\u001b[1;32m----> 2\u001b[0m vae \u001b[38;5;241m=\u001b[39m keras\u001b[38;5;241m.\u001b[39mmodels\u001b[38;5;241m.\u001b[39mModel(encoder_input, vaeOutput)\n\u001b[0;32m      3\u001b[0m vae\u001b[38;5;241m.\u001b[39mcompile(optimizer\u001b[38;5;241m=\u001b[39m\u001b[38;5;124m\"\u001b[39m\u001b[38;5;124mrmsprop\u001b[39m\u001b[38;5;124m\"\u001b[39m, loss\u001b[38;5;241m=\u001b[39m\u001b[38;5;28;01mNone\u001b[39;00m)\n\u001b[0;32m      4\u001b[0m vae\u001b[38;5;241m.\u001b[39msummary()\n",
      "\u001b[1;31mNameError\u001b[0m: name 'vaeOutput' is not defined"
     ]
    }
   ],
   "source": []
  },
  {
   "cell_type": "code",
   "execution_count": 212,
   "id": "a3ea9064-b0d4-4e6b-8dde-f6833989e15d",
   "metadata": {
    "tags": []
   },
   "outputs": [
    {
     "data": {
      "text/plain": [
       "70000"
      ]
     },
     "execution_count": 212,
     "metadata": {},
     "output_type": "execute_result"
    }
   ],
   "source": [
    "(x_train, _), (x_test, _) = keras.datasets.mnist.load_data()\n",
    "mnist_digits = np.concatenate([x_train, x_test], axis=0)\n",
    "mnist_digits = np.expand_dims(mnist_digits, -1).astype(\"float32\") / 255\n",
    "\n",
    "len(mnist_digits)"
   ]
  },
  {
   "cell_type": "code",
   "execution_count": 229,
   "id": "6941945a-9b6e-4549-a1ac-3dff3d1b9bec",
   "metadata": {
    "tags": []
   },
   "outputs": [
    {
     "ename": "ValueError",
     "evalue": "cannot reshape array of size 4089 into shape (4089,150,150,3)",
     "output_type": "error",
     "traceback": [
      "\u001b[1;31m---------------------------------------------------------------------------\u001b[0m",
      "\u001b[1;31mValueError\u001b[0m                                Traceback (most recent call last)",
      "Cell \u001b[1;32mIn[229], line 2\u001b[0m\n\u001b[0;32m      1\u001b[0m test \u001b[38;5;241m=\u001b[39m np\u001b[38;5;241m.\u001b[39marray(X_train)\n\u001b[1;32m----> 2\u001b[0m test\u001b[38;5;241m.\u001b[39mreshape(test\u001b[38;5;241m.\u001b[39mshape[\u001b[38;5;241m0\u001b[39m], \u001b[38;5;241m150\u001b[39m, \u001b[38;5;241m150\u001b[39m, \u001b[38;5;241m3\u001b[39m)\n",
      "\u001b[1;31mValueError\u001b[0m: cannot reshape array of size 4089 into shape (4089,150,150,3)"
     ]
    }
   ],
   "source": [
    "test = np.array(X_train)\n"
   ]
  },
  {
   "cell_type": "code",
   "execution_count": 230,
   "id": "428d5d25-6a0b-49ab-90ad-3d4ad76f0681",
   "metadata": {
    "tags": []
   },
   "outputs": [
    {
     "data": {
      "text/plain": [
       "456           young\n",
       "5068          young\n",
       "3576    middle-aged\n",
       "3501    middle-aged\n",
       "3872    middle-aged\n",
       "           ...     \n",
       "3808          young\n",
       "5296          young\n",
       "5338            old\n",
       "5512            old\n",
       "865     middle-aged\n",
       "Name: label, Length: 4089, dtype: object"
      ]
     },
     "execution_count": 230,
     "metadata": {},
     "output_type": "execute_result"
    }
   ],
   "source": [
    "y_train"
   ]
  },
  {
   "cell_type": "code",
   "execution_count": 231,
   "id": "0ebf9e70-c8f3-4884-8181-c3113f4b7cec",
   "metadata": {
    "tags": []
   },
   "outputs": [
    {
     "data": {
      "text/plain": [
       "456     [[[0.62352943, 0.6039216, 0.5803922], [0.63529...\n",
       "5068    [[[0.92941177, 0.92941177, 0.92941177], [0.929...\n",
       "3576    [[[0.8392157, 0.77254903, 0.67058825], [0.8392...\n",
       "3501    [[[0.3372549, 0.32156864, 0.2784314], [0.30196...\n",
       "3872    [[[0.50980395, 0.54901963, 0.58431375], [0.490...\n",
       "                              ...                        \n",
       "3808    [[[0.27058825, 0.13725491, 0.13333334], [0.286...\n",
       "5296    [[[0.54509807, 0.5882353, 0.3529412], [0.53725...\n",
       "5338    [[[0.38039216, 0.27450982, 0.15686275], [0.439...\n",
       "5512    [[[0.07450981, 0.15686275, 0.13725491], [0.074...\n",
       "865     [[[0.7019608, 0.7411765, 0.7764706], [0.705882...\n",
       "Name: RGB_data, Length: 4089, dtype: object"
      ]
     },
     "execution_count": 231,
     "metadata": {},
     "output_type": "execute_result"
    }
   ],
   "source": [
    "X_train"
   ]
  },
  {
   "cell_type": "code",
   "execution_count": null,
   "id": "64e0085d-3f67-4fdd-a13f-30d5befa5fbe",
   "metadata": {},
   "outputs": [],
   "source": []
  }
 ],
 "metadata": {
  "kernelspec": {
   "display_name": "Python 3 (ipykernel)",
   "language": "python",
   "name": "python3"
  },
  "language_info": {
   "codemirror_mode": {
    "name": "ipython",
    "version": 3
   },
   "file_extension": ".py",
   "mimetype": "text/x-python",
   "name": "python",
   "nbconvert_exporter": "python",
   "pygments_lexer": "ipython3",
   "version": "3.11.5"
  }
 },
 "nbformat": 4,
 "nbformat_minor": 5
}

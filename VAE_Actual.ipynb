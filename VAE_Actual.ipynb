{
 "cells": [
  {
   "cell_type": "markdown",
   "id": "f8202718-4852-422f-a80b-2a5846d12fad",
   "metadata": {},
   "source": [
    "VAE - Pawsitive Aging\n",
    "==============\n",
    "The following code was heavily based upon the Keras VAE implmentation code with changes to the architecture and optimizations "
   ]
  },
  {
   "cell_type": "code",
   "execution_count": 4,
   "id": "e855b9cc-f642-47be-86fc-0e58e4fd45db",
   "metadata": {
    "tags": []
   },
   "outputs": [],
   "source": [
    "# library includes\n",
    "import os\n",
    "import numpy as np\n",
    "import pandas as pd\n",
    "import tensorflow as tf\n",
    "import matplotlib.pyplot as plt\n",
    "import keras\n",
    "from keras import layers\n",
    "from keras.preprocessing.image import img_to_array, load_img\n",
    "from sklearn.model_selection import train_test_split"
   ]
  },
  {
   "cell_type": "code",
   "execution_count": 5,
   "id": "d4ac8fc0-4284-41c3-be4b-b7db6aa0ce6b",
   "metadata": {
    "tags": []
   },
   "outputs": [],
   "source": [
    "class Sampling(layers.Layer):\n",
    "    \"\"\"Uses (z_mean, z_log_var) to sample z, the vector encoding a digit.\"\"\"\n",
    "\n",
    "    def call(self, inputs):\n",
    "        z_mean, z_log_var = inputs\n",
    "        batch = tf.shape(z_mean)[0]\n",
    "        dim = tf.shape(z_mean)[1]\n",
    "        epsilon = tf.random.normal(shape=(batch, dim))\n",
    "        return z_mean + tf.exp(0.5 * z_log_var) * epsilon"
   ]
  },
  {
   "cell_type": "code",
   "execution_count": 6,
   "id": "13e5b427-178a-4a6c-b8c6-02438ab1106b",
   "metadata": {
    "tags": []
   },
   "outputs": [
    {
     "data": {
      "text/html": [
       "<div>\n",
       "<style scoped>\n",
       "    .dataframe tbody tr th:only-of-type {\n",
       "        vertical-align: middle;\n",
       "    }\n",
       "\n",
       "    .dataframe tbody tr th {\n",
       "        vertical-align: top;\n",
       "    }\n",
       "\n",
       "    .dataframe thead th {\n",
       "        text-align: right;\n",
       "    }\n",
       "</style>\n",
       "<table border=\"1\" class=\"dataframe\">\n",
       "  <thead>\n",
       "    <tr style=\"text-align: right;\">\n",
       "      <th></th>\n",
       "      <th>index</th>\n",
       "      <th>fileDirectory</th>\n",
       "      <th>label</th>\n",
       "      <th>fullFilePath</th>\n",
       "    </tr>\n",
       "  </thead>\n",
       "  <tbody>\n",
       "    <tr>\n",
       "      <th>0</th>\n",
       "      <td>0</td>\n",
       "      <td>dog000000.jpg</td>\n",
       "      <td>middle-aged</td>\n",
       "      <td>./data_sources/images/processed_dogs/dog000000...</td>\n",
       "    </tr>\n",
       "    <tr>\n",
       "      <th>1</th>\n",
       "      <td>1</td>\n",
       "      <td>dog000001.jpg</td>\n",
       "      <td>middle-aged</td>\n",
       "      <td>./data_sources/images/processed_dogs/dog000001...</td>\n",
       "    </tr>\n",
       "    <tr>\n",
       "      <th>2</th>\n",
       "      <td>2</td>\n",
       "      <td>dog000002.jpg</td>\n",
       "      <td>middle-aged</td>\n",
       "      <td>./data_sources/images/processed_dogs/dog000002...</td>\n",
       "    </tr>\n",
       "    <tr>\n",
       "      <th>3</th>\n",
       "      <td>3</td>\n",
       "      <td>dog000003.jpg</td>\n",
       "      <td>old</td>\n",
       "      <td>./data_sources/images/processed_dogs/dog000003...</td>\n",
       "    </tr>\n",
       "    <tr>\n",
       "      <th>4</th>\n",
       "      <td>4</td>\n",
       "      <td>dog000004.jpg</td>\n",
       "      <td>middle-aged</td>\n",
       "      <td>./data_sources/images/processed_dogs/dog000004...</td>\n",
       "    </tr>\n",
       "    <tr>\n",
       "      <th>...</th>\n",
       "      <td>...</td>\n",
       "      <td>...</td>\n",
       "      <td>...</td>\n",
       "      <td>...</td>\n",
       "    </tr>\n",
       "    <tr>\n",
       "      <th>5570</th>\n",
       "      <td>5570</td>\n",
       "      <td>dog005570.jpg</td>\n",
       "      <td>young</td>\n",
       "      <td>./data_sources/images/processed_dogs/dog005570...</td>\n",
       "    </tr>\n",
       "    <tr>\n",
       "      <th>5571</th>\n",
       "      <td>5571</td>\n",
       "      <td>dog005571.jpg</td>\n",
       "      <td>middle-aged</td>\n",
       "      <td>./data_sources/images/processed_dogs/dog005571...</td>\n",
       "    </tr>\n",
       "    <tr>\n",
       "      <th>5572</th>\n",
       "      <td>5572</td>\n",
       "      <td>dog005572.jpg</td>\n",
       "      <td>middle-aged</td>\n",
       "      <td>./data_sources/images/processed_dogs/dog005572...</td>\n",
       "    </tr>\n",
       "    <tr>\n",
       "      <th>5573</th>\n",
       "      <td>5573</td>\n",
       "      <td>dog005573.jpg</td>\n",
       "      <td>young</td>\n",
       "      <td>./data_sources/images/processed_dogs/dog005573...</td>\n",
       "    </tr>\n",
       "    <tr>\n",
       "      <th>5574</th>\n",
       "      <td>5574</td>\n",
       "      <td>dog005574.jpg</td>\n",
       "      <td>young</td>\n",
       "      <td>./data_sources/images/processed_dogs/dog005574...</td>\n",
       "    </tr>\n",
       "  </tbody>\n",
       "</table>\n",
       "<p>5453 rows × 4 columns</p>\n",
       "</div>"
      ],
      "text/plain": [
       "      index  fileDirectory        label  \\\n",
       "0         0  dog000000.jpg  middle-aged   \n",
       "1         1  dog000001.jpg  middle-aged   \n",
       "2         2  dog000002.jpg  middle-aged   \n",
       "3         3  dog000003.jpg          old   \n",
       "4         4  dog000004.jpg  middle-aged   \n",
       "...     ...            ...          ...   \n",
       "5570   5570  dog005570.jpg        young   \n",
       "5571   5571  dog005571.jpg  middle-aged   \n",
       "5572   5572  dog005572.jpg  middle-aged   \n",
       "5573   5573  dog005573.jpg        young   \n",
       "5574   5574  dog005574.jpg        young   \n",
       "\n",
       "                                           fullFilePath  \n",
       "0     ./data_sources/images/processed_dogs/dog000000...  \n",
       "1     ./data_sources/images/processed_dogs/dog000001...  \n",
       "2     ./data_sources/images/processed_dogs/dog000002...  \n",
       "3     ./data_sources/images/processed_dogs/dog000003...  \n",
       "4     ./data_sources/images/processed_dogs/dog000004...  \n",
       "...                                                 ...  \n",
       "5570  ./data_sources/images/processed_dogs/dog005570...  \n",
       "5571  ./data_sources/images/processed_dogs/dog005571...  \n",
       "5572  ./data_sources/images/processed_dogs/dog005572...  \n",
       "5573  ./data_sources/images/processed_dogs/dog005573...  \n",
       "5574  ./data_sources/images/processed_dogs/dog005574...  \n",
       "\n",
       "[5453 rows x 4 columns]"
      ]
     },
     "execution_count": 6,
     "metadata": {},
     "output_type": "execute_result"
    }
   ],
   "source": [
    "# data loading from CSV\n",
    "data_path = \"./data_sources/\"\n",
    "processedDogs_path = \"./data_sources/images/processed_dogs/\"\n",
    "data_csv_path = \"./data_sources/dog_data.csv\"\n",
    "\n",
    "dogCSV = pd.read_csv(data_csv_path)\n",
    "\n",
    "dogImagesPaths = []\n",
    "for fileDirectory in dogCSV[\"fileDirectory\"]:\n",
    "    dogImagesPaths.append(processedDogs_path + fileDirectory)\n",
    "\n",
    "dogCSV[\"fullFilePath\"] = dogImagesPaths\n",
    "\n",
    "# removing all the rows that are labeled other than \"middle-aged\", \"old\", \"young\"\n",
    "properLabels = [\"old\", \"young\", \"middle-aged\"]\n",
    "dogCSV = dogCSV[dogCSV[\"label\"].isin(properLabels)]\n",
    "dogCSV"
   ]
  },
  {
   "cell_type": "code",
   "execution_count": 7,
   "id": "9bf92071-861a-439b-a4d0-b98f9dde4462",
   "metadata": {
    "tags": []
   },
   "outputs": [
    {
     "data": {
      "text/html": [
       "<div>\n",
       "<style scoped>\n",
       "    .dataframe tbody tr th:only-of-type {\n",
       "        vertical-align: middle;\n",
       "    }\n",
       "\n",
       "    .dataframe tbody tr th {\n",
       "        vertical-align: top;\n",
       "    }\n",
       "\n",
       "    .dataframe thead th {\n",
       "        text-align: right;\n",
       "    }\n",
       "</style>\n",
       "<table border=\"1\" class=\"dataframe\">\n",
       "  <thead>\n",
       "    <tr style=\"text-align: right;\">\n",
       "      <th></th>\n",
       "      <th>index</th>\n",
       "      <th>fileDirectory</th>\n",
       "      <th>label</th>\n",
       "      <th>fullFilePath</th>\n",
       "      <th>RGB_data</th>\n",
       "      <th>R_data</th>\n",
       "      <th>G_data</th>\n",
       "      <th>B_data</th>\n",
       "    </tr>\n",
       "  </thead>\n",
       "  <tbody>\n",
       "    <tr>\n",
       "      <th>0</th>\n",
       "      <td>0</td>\n",
       "      <td>dog000000.jpg</td>\n",
       "      <td>middle-aged</td>\n",
       "      <td>./data_sources/images/processed_dogs/dog000000...</td>\n",
       "      <td>[[[0.49411765, 0.43137255, 0.43529412], [0.501...</td>\n",
       "      <td>[0.49411765, 0.5019608, 0.39607844, 0.43137255...</td>\n",
       "      <td>[0.43137255, 0.4392157, 0.33333334, 0.36862746...</td>\n",
       "      <td>[0.43529412, 0.44313726, 0.3372549, 0.37254903...</td>\n",
       "    </tr>\n",
       "    <tr>\n",
       "      <th>1</th>\n",
       "      <td>1</td>\n",
       "      <td>dog000001.jpg</td>\n",
       "      <td>middle-aged</td>\n",
       "      <td>./data_sources/images/processed_dogs/dog000001...</td>\n",
       "      <td>[[[0.28235295, 0.39215687, 0.4862745], [0.3098...</td>\n",
       "      <td>[0.28235295, 0.30980393, 0.30980393, 0.2784314...</td>\n",
       "      <td>[0.39215687, 0.41960785, 0.41960785, 0.3882353...</td>\n",
       "      <td>[0.4862745, 0.5137255, 0.5137255, 0.48235294, ...</td>\n",
       "    </tr>\n",
       "    <tr>\n",
       "      <th>2</th>\n",
       "      <td>2</td>\n",
       "      <td>dog000002.jpg</td>\n",
       "      <td>middle-aged</td>\n",
       "      <td>./data_sources/images/processed_dogs/dog000002...</td>\n",
       "      <td>[[[0.32156864, 0.078431375, 0.13725491], [0.32...</td>\n",
       "      <td>[0.32156864, 0.32156864, 0.32156864, 0.3098039...</td>\n",
       "      <td>[0.078431375, 0.078431375, 0.07058824, 0.05882...</td>\n",
       "      <td>[0.13725491, 0.13725491, 0.13333334, 0.1215686...</td>\n",
       "    </tr>\n",
       "    <tr>\n",
       "      <th>3</th>\n",
       "      <td>3</td>\n",
       "      <td>dog000003.jpg</td>\n",
       "      <td>old</td>\n",
       "      <td>./data_sources/images/processed_dogs/dog000003...</td>\n",
       "      <td>[[[1.0, 0.99607843, 1.0], [0.9529412, 0.933333...</td>\n",
       "      <td>[1.0, 0.9529412, 1.0, 0.9490196, 0.9843137, 1....</td>\n",
       "      <td>[0.99607843, 0.93333334, 0.99215686, 0.9137255...</td>\n",
       "      <td>[1.0, 0.9490196, 1.0, 0.93333334, 0.95686275, ...</td>\n",
       "    </tr>\n",
       "    <tr>\n",
       "      <th>4</th>\n",
       "      <td>4</td>\n",
       "      <td>dog000004.jpg</td>\n",
       "      <td>middle-aged</td>\n",
       "      <td>./data_sources/images/processed_dogs/dog000004...</td>\n",
       "      <td>[[[0.011764706, 0.011764706, 0.011764706], [0....</td>\n",
       "      <td>[0.011764706, 0.011764706, 0.011764706, 0.0078...</td>\n",
       "      <td>[0.011764706, 0.011764706, 0.011764706, 0.0078...</td>\n",
       "      <td>[0.011764706, 0.011764706, 0.011764706, 0.0078...</td>\n",
       "    </tr>\n",
       "    <tr>\n",
       "      <th>...</th>\n",
       "      <td>...</td>\n",
       "      <td>...</td>\n",
       "      <td>...</td>\n",
       "      <td>...</td>\n",
       "      <td>...</td>\n",
       "      <td>...</td>\n",
       "      <td>...</td>\n",
       "      <td>...</td>\n",
       "    </tr>\n",
       "    <tr>\n",
       "      <th>5570</th>\n",
       "      <td>5570</td>\n",
       "      <td>dog005570.jpg</td>\n",
       "      <td>young</td>\n",
       "      <td>./data_sources/images/processed_dogs/dog005570...</td>\n",
       "      <td>[[[0.39607844, 0.40392157, 0.4], [0.39607844, ...</td>\n",
       "      <td>[0.39607844, 0.39607844, 0.4, 0.4, 0.40392157,...</td>\n",
       "      <td>[0.40392157, 0.40392157, 0.40784314, 0.4078431...</td>\n",
       "      <td>[0.4, 0.4, 0.40392157, 0.40392157, 0.40784314,...</td>\n",
       "    </tr>\n",
       "    <tr>\n",
       "      <th>5571</th>\n",
       "      <td>5571</td>\n",
       "      <td>dog005571.jpg</td>\n",
       "      <td>middle-aged</td>\n",
       "      <td>./data_sources/images/processed_dogs/dog005571...</td>\n",
       "      <td>[[[0.023529412, 0.023529412, 0.023529412], [0....</td>\n",
       "      <td>[0.023529412, 0.023529412, 0.023529412, 0.0235...</td>\n",
       "      <td>[0.023529412, 0.023529412, 0.023529412, 0.0235...</td>\n",
       "      <td>[0.023529412, 0.023529412, 0.023529412, 0.0235...</td>\n",
       "    </tr>\n",
       "    <tr>\n",
       "      <th>5572</th>\n",
       "      <td>5572</td>\n",
       "      <td>dog005572.jpg</td>\n",
       "      <td>middle-aged</td>\n",
       "      <td>./data_sources/images/processed_dogs/dog005572...</td>\n",
       "      <td>[[[0.6117647, 0.39607844, 0.1764706], [0.63137...</td>\n",
       "      <td>[0.6117647, 0.6313726, 0.72156864, 0.43529412,...</td>\n",
       "      <td>[0.39607844, 0.40392157, 0.50980395, 0.3058823...</td>\n",
       "      <td>[0.1764706, 0.21568628, 0.36078432, 0.18431373...</td>\n",
       "    </tr>\n",
       "    <tr>\n",
       "      <th>5573</th>\n",
       "      <td>5573</td>\n",
       "      <td>dog005573.jpg</td>\n",
       "      <td>young</td>\n",
       "      <td>./data_sources/images/processed_dogs/dog005573...</td>\n",
       "      <td>[[[0.007843138, 0.007843138, 0.007843138], [0....</td>\n",
       "      <td>[0.007843138, 0.003921569, 0.003921569, 0.0039...</td>\n",
       "      <td>[0.007843138, 0.003921569, 0.003921569, 0.0039...</td>\n",
       "      <td>[0.007843138, 0.003921569, 0.003921569, 0.0039...</td>\n",
       "    </tr>\n",
       "    <tr>\n",
       "      <th>5574</th>\n",
       "      <td>5574</td>\n",
       "      <td>dog005574.jpg</td>\n",
       "      <td>young</td>\n",
       "      <td>./data_sources/images/processed_dogs/dog005574...</td>\n",
       "      <td>[[[0.16078432, 0.12156863, 0.08235294], [0.160...</td>\n",
       "      <td>[0.16078432, 0.16078432, 0.16470589, 0.1725490...</td>\n",
       "      <td>[0.12156863, 0.12156863, 0.1254902, 0.13333334...</td>\n",
       "      <td>[0.08235294, 0.08235294, 0.08627451, 0.0941176...</td>\n",
       "    </tr>\n",
       "  </tbody>\n",
       "</table>\n",
       "<p>5453 rows × 8 columns</p>\n",
       "</div>"
      ],
      "text/plain": [
       "      index  fileDirectory        label  \\\n",
       "0         0  dog000000.jpg  middle-aged   \n",
       "1         1  dog000001.jpg  middle-aged   \n",
       "2         2  dog000002.jpg  middle-aged   \n",
       "3         3  dog000003.jpg          old   \n",
       "4         4  dog000004.jpg  middle-aged   \n",
       "...     ...            ...          ...   \n",
       "5570   5570  dog005570.jpg        young   \n",
       "5571   5571  dog005571.jpg  middle-aged   \n",
       "5572   5572  dog005572.jpg  middle-aged   \n",
       "5573   5573  dog005573.jpg        young   \n",
       "5574   5574  dog005574.jpg        young   \n",
       "\n",
       "                                           fullFilePath  \\\n",
       "0     ./data_sources/images/processed_dogs/dog000000...   \n",
       "1     ./data_sources/images/processed_dogs/dog000001...   \n",
       "2     ./data_sources/images/processed_dogs/dog000002...   \n",
       "3     ./data_sources/images/processed_dogs/dog000003...   \n",
       "4     ./data_sources/images/processed_dogs/dog000004...   \n",
       "...                                                 ...   \n",
       "5570  ./data_sources/images/processed_dogs/dog005570...   \n",
       "5571  ./data_sources/images/processed_dogs/dog005571...   \n",
       "5572  ./data_sources/images/processed_dogs/dog005572...   \n",
       "5573  ./data_sources/images/processed_dogs/dog005573...   \n",
       "5574  ./data_sources/images/processed_dogs/dog005574...   \n",
       "\n",
       "                                               RGB_data  \\\n",
       "0     [[[0.49411765, 0.43137255, 0.43529412], [0.501...   \n",
       "1     [[[0.28235295, 0.39215687, 0.4862745], [0.3098...   \n",
       "2     [[[0.32156864, 0.078431375, 0.13725491], [0.32...   \n",
       "3     [[[1.0, 0.99607843, 1.0], [0.9529412, 0.933333...   \n",
       "4     [[[0.011764706, 0.011764706, 0.011764706], [0....   \n",
       "...                                                 ...   \n",
       "5570  [[[0.39607844, 0.40392157, 0.4], [0.39607844, ...   \n",
       "5571  [[[0.023529412, 0.023529412, 0.023529412], [0....   \n",
       "5572  [[[0.6117647, 0.39607844, 0.1764706], [0.63137...   \n",
       "5573  [[[0.007843138, 0.007843138, 0.007843138], [0....   \n",
       "5574  [[[0.16078432, 0.12156863, 0.08235294], [0.160...   \n",
       "\n",
       "                                                 R_data  \\\n",
       "0     [0.49411765, 0.5019608, 0.39607844, 0.43137255...   \n",
       "1     [0.28235295, 0.30980393, 0.30980393, 0.2784314...   \n",
       "2     [0.32156864, 0.32156864, 0.32156864, 0.3098039...   \n",
       "3     [1.0, 0.9529412, 1.0, 0.9490196, 0.9843137, 1....   \n",
       "4     [0.011764706, 0.011764706, 0.011764706, 0.0078...   \n",
       "...                                                 ...   \n",
       "5570  [0.39607844, 0.39607844, 0.4, 0.4, 0.40392157,...   \n",
       "5571  [0.023529412, 0.023529412, 0.023529412, 0.0235...   \n",
       "5572  [0.6117647, 0.6313726, 0.72156864, 0.43529412,...   \n",
       "5573  [0.007843138, 0.003921569, 0.003921569, 0.0039...   \n",
       "5574  [0.16078432, 0.16078432, 0.16470589, 0.1725490...   \n",
       "\n",
       "                                                 G_data  \\\n",
       "0     [0.43137255, 0.4392157, 0.33333334, 0.36862746...   \n",
       "1     [0.39215687, 0.41960785, 0.41960785, 0.3882353...   \n",
       "2     [0.078431375, 0.078431375, 0.07058824, 0.05882...   \n",
       "3     [0.99607843, 0.93333334, 0.99215686, 0.9137255...   \n",
       "4     [0.011764706, 0.011764706, 0.011764706, 0.0078...   \n",
       "...                                                 ...   \n",
       "5570  [0.40392157, 0.40392157, 0.40784314, 0.4078431...   \n",
       "5571  [0.023529412, 0.023529412, 0.023529412, 0.0235...   \n",
       "5572  [0.39607844, 0.40392157, 0.50980395, 0.3058823...   \n",
       "5573  [0.007843138, 0.003921569, 0.003921569, 0.0039...   \n",
       "5574  [0.12156863, 0.12156863, 0.1254902, 0.13333334...   \n",
       "\n",
       "                                                 B_data  \n",
       "0     [0.43529412, 0.44313726, 0.3372549, 0.37254903...  \n",
       "1     [0.4862745, 0.5137255, 0.5137255, 0.48235294, ...  \n",
       "2     [0.13725491, 0.13725491, 0.13333334, 0.1215686...  \n",
       "3     [1.0, 0.9490196, 1.0, 0.93333334, 0.95686275, ...  \n",
       "4     [0.011764706, 0.011764706, 0.011764706, 0.0078...  \n",
       "...                                                 ...  \n",
       "5570  [0.4, 0.4, 0.40392157, 0.40392157, 0.40784314,...  \n",
       "5571  [0.023529412, 0.023529412, 0.023529412, 0.0235...  \n",
       "5572  [0.1764706, 0.21568628, 0.36078432, 0.18431373...  \n",
       "5573  [0.007843138, 0.003921569, 0.003921569, 0.0039...  \n",
       "5574  [0.08235294, 0.08235294, 0.08627451, 0.0941176...  \n",
       "\n",
       "[5453 rows x 8 columns]"
      ]
     },
     "execution_count": 7,
     "metadata": {},
     "output_type": "execute_result"
    }
   ],
   "source": [
    "# data preprocessing\n",
    "loaded_images = []\n",
    "r_data = []\n",
    "g_data = []\n",
    "b_data = []\n",
    "\n",
    "for imageFilePath in dogCSV[\"fullFilePath\"]:\n",
    "    img = load_img(imageFilePath, target_size=(150, 150), color_mode='rgb')\n",
    "    img_array = img_to_array(img) / 255.0\n",
    "    imageData = np.array(img_array)\n",
    "    loaded_images.append(imageData)\n",
    "    r_data.append(np.array(imageData[:, :, 0]).flatten())\n",
    "    g_data.append(np.array(imageData[:, :, 1]).flatten())\n",
    "    b_data.append(np.array(imageData[:, :, 2]).flatten())    \n",
    "    \n",
    "dogCSV[\"RGB_data\"] = loaded_images\n",
    "dogCSV[\"R_data\"] = r_data\n",
    "dogCSV[\"G_data\"] = g_data\n",
    "dogCSV[\"B_data\"] = b_data\n",
    "\n",
    "dogCSV"
   ]
  },
  {
   "cell_type": "code",
   "execution_count": 45,
   "id": "b1b54119-6537-4892-8c13-d73c09de465b",
   "metadata": {
    "tags": []
   },
   "outputs": [],
   "source": [
    "# splitting the test set and training set (25% test set, 75% training set)\n",
    "imagesData = dogCSV[\"RGB_data\"]\n",
    "imageLabels = dogCSV[\"label\"]\n",
    "\n",
    "imageArr = []\n",
    "for imageData in imagesData.to_list():\n",
    "    imageArr.append(imageData)\n",
    "X_train_tensor = tf.convert_to_tensor(imageArr)"
   ]
  },
  {
   "cell_type": "code",
   "execution_count": 47,
   "id": "2d0e6f83-e5f6-4c1a-b7ca-bc0578eacaa9",
   "metadata": {
    "tags": []
   },
   "outputs": [
    {
     "data": {
      "text/plain": [
       "TensorShape([5453, 150, 150, 3])"
      ]
     },
     "execution_count": 47,
     "metadata": {},
     "output_type": "execute_result"
    }
   ],
   "source": [
    "X_train_tensor.shape"
   ]
  },
  {
   "cell_type": "code",
   "execution_count": 26,
   "id": "930f76e6-9fa2-4dbc-93c8-be1bdfeb9a30",
   "metadata": {
    "tags": []
   },
   "outputs": [],
   "source": [
    "# enumerating and mapping the labels to values\n",
    "labelDictionary = {\"middled-aged\":0, \"old\":1, \"young\":2}"
   ]
  },
  {
   "cell_type": "code",
   "execution_count": 22,
   "id": "b8c393cf-a273-4f8e-adf7-457c125c96f3",
   "metadata": {
    "tags": []
   },
   "outputs": [
    {
     "data": {
      "text/html": [
       "<pre style=\"white-space:pre;overflow-x:auto;line-height:normal;font-family:Menlo,'DejaVu Sans Mono',consolas,'Courier New',monospace\"><span style=\"font-weight: bold\">Model: \"encoder\"</span>\n",
       "</pre>\n"
      ],
      "text/plain": [
       "\u001b[1mModel: \"encoder\"\u001b[0m\n"
      ]
     },
     "metadata": {},
     "output_type": "display_data"
    },
    {
     "data": {
      "text/html": [
       "<pre style=\"white-space:pre;overflow-x:auto;line-height:normal;font-family:Menlo,'DejaVu Sans Mono',consolas,'Courier New',monospace\">┏━━━━━━━━━━━━━━━━━━━━━━━━━━━━━━━┳━━━━━━━━━━━━━━━━━━━━━━━━━━━┳━━━━━━━━━━━━━━━━━┳━━━━━━━━━━━━━━━━━━━━━━━━━━━━┓\n",
       "┃<span style=\"font-weight: bold\"> Layer (type)                  </span>┃<span style=\"font-weight: bold\"> Output Shape              </span>┃<span style=\"font-weight: bold\">         Param # </span>┃<span style=\"font-weight: bold\"> Connected to               </span>┃\n",
       "┡━━━━━━━━━━━━━━━━━━━━━━━━━━━━━━━╇━━━━━━━━━━━━━━━━━━━━━━━━━━━╇━━━━━━━━━━━━━━━━━╇━━━━━━━━━━━━━━━━━━━━━━━━━━━━┩\n",
       "│ input_layer_12 (<span style=\"color: #0087ff; text-decoration-color: #0087ff\">InputLayer</span>)   │ (<span style=\"color: #00d7ff; text-decoration-color: #00d7ff\">None</span>, <span style=\"color: #00af00; text-decoration-color: #00af00\">150</span>, <span style=\"color: #00af00; text-decoration-color: #00af00\">150</span>, <span style=\"color: #00af00; text-decoration-color: #00af00\">3</span>)       │               <span style=\"color: #00af00; text-decoration-color: #00af00\">0</span> │ -                          │\n",
       "├───────────────────────────────┼───────────────────────────┼─────────────────┼────────────────────────────┤\n",
       "│ conv2d_9 (<span style=\"color: #0087ff; text-decoration-color: #0087ff\">Conv2D</span>)             │ (<span style=\"color: #00d7ff; text-decoration-color: #00d7ff\">None</span>, <span style=\"color: #00af00; text-decoration-color: #00af00\">75</span>, <span style=\"color: #00af00; text-decoration-color: #00af00\">75</span>, <span style=\"color: #00af00; text-decoration-color: #00af00\">32</span>)        │             <span style=\"color: #00af00; text-decoration-color: #00af00\">896</span> │ input_layer_12[<span style=\"color: #00af00; text-decoration-color: #00af00\">0</span>][<span style=\"color: #00af00; text-decoration-color: #00af00\">0</span>]       │\n",
       "├───────────────────────────────┼───────────────────────────┼─────────────────┼────────────────────────────┤\n",
       "│ conv2d_10 (<span style=\"color: #0087ff; text-decoration-color: #0087ff\">Conv2D</span>)            │ (<span style=\"color: #00d7ff; text-decoration-color: #00d7ff\">None</span>, <span style=\"color: #00af00; text-decoration-color: #00af00\">25</span>, <span style=\"color: #00af00; text-decoration-color: #00af00\">25</span>, <span style=\"color: #00af00; text-decoration-color: #00af00\">64</span>)        │          <span style=\"color: #00af00; text-decoration-color: #00af00\">18,496</span> │ conv2d_9[<span style=\"color: #00af00; text-decoration-color: #00af00\">0</span>][<span style=\"color: #00af00; text-decoration-color: #00af00\">0</span>]             │\n",
       "├───────────────────────────────┼───────────────────────────┼─────────────────┼────────────────────────────┤\n",
       "│ conv2d_11 (<span style=\"color: #0087ff; text-decoration-color: #0087ff\">Conv2D</span>)            │ (<span style=\"color: #00d7ff; text-decoration-color: #00d7ff\">None</span>, <span style=\"color: #00af00; text-decoration-color: #00af00\">25</span>, <span style=\"color: #00af00; text-decoration-color: #00af00\">25</span>, <span style=\"color: #00af00; text-decoration-color: #00af00\">128</span>)       │         <span style=\"color: #00af00; text-decoration-color: #00af00\">204,928</span> │ conv2d_10[<span style=\"color: #00af00; text-decoration-color: #00af00\">0</span>][<span style=\"color: #00af00; text-decoration-color: #00af00\">0</span>]            │\n",
       "├───────────────────────────────┼───────────────────────────┼─────────────────┼────────────────────────────┤\n",
       "│ flatten_3 (<span style=\"color: #0087ff; text-decoration-color: #0087ff\">Flatten</span>)           │ (<span style=\"color: #00d7ff; text-decoration-color: #00d7ff\">None</span>, <span style=\"color: #00af00; text-decoration-color: #00af00\">80000</span>)             │               <span style=\"color: #00af00; text-decoration-color: #00af00\">0</span> │ conv2d_11[<span style=\"color: #00af00; text-decoration-color: #00af00\">0</span>][<span style=\"color: #00af00; text-decoration-color: #00af00\">0</span>]            │\n",
       "├───────────────────────────────┼───────────────────────────┼─────────────────┼────────────────────────────┤\n",
       "│ dense_12 (<span style=\"color: #0087ff; text-decoration-color: #0087ff\">Dense</span>)              │ (<span style=\"color: #00d7ff; text-decoration-color: #00d7ff\">None</span>, <span style=\"color: #00af00; text-decoration-color: #00af00\">128</span>)               │      <span style=\"color: #00af00; text-decoration-color: #00af00\">10,240,128</span> │ flatten_3[<span style=\"color: #00af00; text-decoration-color: #00af00\">0</span>][<span style=\"color: #00af00; text-decoration-color: #00af00\">0</span>]            │\n",
       "├───────────────────────────────┼───────────────────────────┼─────────────────┼────────────────────────────┤\n",
       "│ dense_13 (<span style=\"color: #0087ff; text-decoration-color: #0087ff\">Dense</span>)              │ (<span style=\"color: #00d7ff; text-decoration-color: #00d7ff\">None</span>, <span style=\"color: #00af00; text-decoration-color: #00af00\">64</span>)                │           <span style=\"color: #00af00; text-decoration-color: #00af00\">8,256</span> │ dense_12[<span style=\"color: #00af00; text-decoration-color: #00af00\">0</span>][<span style=\"color: #00af00; text-decoration-color: #00af00\">0</span>]             │\n",
       "├───────────────────────────────┼───────────────────────────┼─────────────────┼────────────────────────────┤\n",
       "│ z_mean (<span style=\"color: #0087ff; text-decoration-color: #0087ff\">Dense</span>)                │ (<span style=\"color: #00d7ff; text-decoration-color: #00d7ff\">None</span>, <span style=\"color: #00af00; text-decoration-color: #00af00\">10</span>)                │             <span style=\"color: #00af00; text-decoration-color: #00af00\">650</span> │ dense_13[<span style=\"color: #00af00; text-decoration-color: #00af00\">0</span>][<span style=\"color: #00af00; text-decoration-color: #00af00\">0</span>]             │\n",
       "├───────────────────────────────┼───────────────────────────┼─────────────────┼────────────────────────────┤\n",
       "│ z_log_var (<span style=\"color: #0087ff; text-decoration-color: #0087ff\">Dense</span>)             │ (<span style=\"color: #00d7ff; text-decoration-color: #00d7ff\">None</span>, <span style=\"color: #00af00; text-decoration-color: #00af00\">10</span>)                │             <span style=\"color: #00af00; text-decoration-color: #00af00\">650</span> │ dense_13[<span style=\"color: #00af00; text-decoration-color: #00af00\">0</span>][<span style=\"color: #00af00; text-decoration-color: #00af00\">0</span>]             │\n",
       "├───────────────────────────────┼───────────────────────────┼─────────────────┼────────────────────────────┤\n",
       "│ sampling_3 (<span style=\"color: #0087ff; text-decoration-color: #0087ff\">Sampling</span>)         │ (<span style=\"color: #00d7ff; text-decoration-color: #00d7ff\">None</span>, <span style=\"color: #00af00; text-decoration-color: #00af00\">10</span>)                │               <span style=\"color: #00af00; text-decoration-color: #00af00\">0</span> │ z_mean[<span style=\"color: #00af00; text-decoration-color: #00af00\">0</span>][<span style=\"color: #00af00; text-decoration-color: #00af00\">0</span>],              │\n",
       "│                               │                           │                 │ z_log_var[<span style=\"color: #00af00; text-decoration-color: #00af00\">0</span>][<span style=\"color: #00af00; text-decoration-color: #00af00\">0</span>]            │\n",
       "└───────────────────────────────┴───────────────────────────┴─────────────────┴────────────────────────────┘\n",
       "</pre>\n"
      ],
      "text/plain": [
       "┏━━━━━━━━━━━━━━━━━━━━━━━━━━━━━━━┳━━━━━━━━━━━━━━━━━━━━━━━━━━━┳━━━━━━━━━━━━━━━━━┳━━━━━━━━━━━━━━━━━━━━━━━━━━━━┓\n",
       "┃\u001b[1m \u001b[0m\u001b[1mLayer (type)                 \u001b[0m\u001b[1m \u001b[0m┃\u001b[1m \u001b[0m\u001b[1mOutput Shape             \u001b[0m\u001b[1m \u001b[0m┃\u001b[1m \u001b[0m\u001b[1m        Param #\u001b[0m\u001b[1m \u001b[0m┃\u001b[1m \u001b[0m\u001b[1mConnected to              \u001b[0m\u001b[1m \u001b[0m┃\n",
       "┡━━━━━━━━━━━━━━━━━━━━━━━━━━━━━━━╇━━━━━━━━━━━━━━━━━━━━━━━━━━━╇━━━━━━━━━━━━━━━━━╇━━━━━━━━━━━━━━━━━━━━━━━━━━━━┩\n",
       "│ input_layer_12 (\u001b[38;5;33mInputLayer\u001b[0m)   │ (\u001b[38;5;45mNone\u001b[0m, \u001b[38;5;34m150\u001b[0m, \u001b[38;5;34m150\u001b[0m, \u001b[38;5;34m3\u001b[0m)       │               \u001b[38;5;34m0\u001b[0m │ -                          │\n",
       "├───────────────────────────────┼───────────────────────────┼─────────────────┼────────────────────────────┤\n",
       "│ conv2d_9 (\u001b[38;5;33mConv2D\u001b[0m)             │ (\u001b[38;5;45mNone\u001b[0m, \u001b[38;5;34m75\u001b[0m, \u001b[38;5;34m75\u001b[0m, \u001b[38;5;34m32\u001b[0m)        │             \u001b[38;5;34m896\u001b[0m │ input_layer_12[\u001b[38;5;34m0\u001b[0m][\u001b[38;5;34m0\u001b[0m]       │\n",
       "├───────────────────────────────┼───────────────────────────┼─────────────────┼────────────────────────────┤\n",
       "│ conv2d_10 (\u001b[38;5;33mConv2D\u001b[0m)            │ (\u001b[38;5;45mNone\u001b[0m, \u001b[38;5;34m25\u001b[0m, \u001b[38;5;34m25\u001b[0m, \u001b[38;5;34m64\u001b[0m)        │          \u001b[38;5;34m18,496\u001b[0m │ conv2d_9[\u001b[38;5;34m0\u001b[0m][\u001b[38;5;34m0\u001b[0m]             │\n",
       "├───────────────────────────────┼───────────────────────────┼─────────────────┼────────────────────────────┤\n",
       "│ conv2d_11 (\u001b[38;5;33mConv2D\u001b[0m)            │ (\u001b[38;5;45mNone\u001b[0m, \u001b[38;5;34m25\u001b[0m, \u001b[38;5;34m25\u001b[0m, \u001b[38;5;34m128\u001b[0m)       │         \u001b[38;5;34m204,928\u001b[0m │ conv2d_10[\u001b[38;5;34m0\u001b[0m][\u001b[38;5;34m0\u001b[0m]            │\n",
       "├───────────────────────────────┼───────────────────────────┼─────────────────┼────────────────────────────┤\n",
       "│ flatten_3 (\u001b[38;5;33mFlatten\u001b[0m)           │ (\u001b[38;5;45mNone\u001b[0m, \u001b[38;5;34m80000\u001b[0m)             │               \u001b[38;5;34m0\u001b[0m │ conv2d_11[\u001b[38;5;34m0\u001b[0m][\u001b[38;5;34m0\u001b[0m]            │\n",
       "├───────────────────────────────┼───────────────────────────┼─────────────────┼────────────────────────────┤\n",
       "│ dense_12 (\u001b[38;5;33mDense\u001b[0m)              │ (\u001b[38;5;45mNone\u001b[0m, \u001b[38;5;34m128\u001b[0m)               │      \u001b[38;5;34m10,240,128\u001b[0m │ flatten_3[\u001b[38;5;34m0\u001b[0m][\u001b[38;5;34m0\u001b[0m]            │\n",
       "├───────────────────────────────┼───────────────────────────┼─────────────────┼────────────────────────────┤\n",
       "│ dense_13 (\u001b[38;5;33mDense\u001b[0m)              │ (\u001b[38;5;45mNone\u001b[0m, \u001b[38;5;34m64\u001b[0m)                │           \u001b[38;5;34m8,256\u001b[0m │ dense_12[\u001b[38;5;34m0\u001b[0m][\u001b[38;5;34m0\u001b[0m]             │\n",
       "├───────────────────────────────┼───────────────────────────┼─────────────────┼────────────────────────────┤\n",
       "│ z_mean (\u001b[38;5;33mDense\u001b[0m)                │ (\u001b[38;5;45mNone\u001b[0m, \u001b[38;5;34m10\u001b[0m)                │             \u001b[38;5;34m650\u001b[0m │ dense_13[\u001b[38;5;34m0\u001b[0m][\u001b[38;5;34m0\u001b[0m]             │\n",
       "├───────────────────────────────┼───────────────────────────┼─────────────────┼────────────────────────────┤\n",
       "│ z_log_var (\u001b[38;5;33mDense\u001b[0m)             │ (\u001b[38;5;45mNone\u001b[0m, \u001b[38;5;34m10\u001b[0m)                │             \u001b[38;5;34m650\u001b[0m │ dense_13[\u001b[38;5;34m0\u001b[0m][\u001b[38;5;34m0\u001b[0m]             │\n",
       "├───────────────────────────────┼───────────────────────────┼─────────────────┼────────────────────────────┤\n",
       "│ sampling_3 (\u001b[38;5;33mSampling\u001b[0m)         │ (\u001b[38;5;45mNone\u001b[0m, \u001b[38;5;34m10\u001b[0m)                │               \u001b[38;5;34m0\u001b[0m │ z_mean[\u001b[38;5;34m0\u001b[0m][\u001b[38;5;34m0\u001b[0m],              │\n",
       "│                               │                           │                 │ z_log_var[\u001b[38;5;34m0\u001b[0m][\u001b[38;5;34m0\u001b[0m]            │\n",
       "└───────────────────────────────┴───────────────────────────┴─────────────────┴────────────────────────────┘\n"
      ]
     },
     "metadata": {},
     "output_type": "display_data"
    },
    {
     "data": {
      "text/html": [
       "<pre style=\"white-space:pre;overflow-x:auto;line-height:normal;font-family:Menlo,'DejaVu Sans Mono',consolas,'Courier New',monospace\"><span style=\"font-weight: bold\"> Total params: </span><span style=\"color: #00af00; text-decoration-color: #00af00\">10,474,004</span> (39.96 MB)\n",
       "</pre>\n"
      ],
      "text/plain": [
       "\u001b[1m Total params: \u001b[0m\u001b[38;5;34m10,474,004\u001b[0m (39.96 MB)\n"
      ]
     },
     "metadata": {},
     "output_type": "display_data"
    },
    {
     "data": {
      "text/html": [
       "<pre style=\"white-space:pre;overflow-x:auto;line-height:normal;font-family:Menlo,'DejaVu Sans Mono',consolas,'Courier New',monospace\"><span style=\"font-weight: bold\"> Trainable params: </span><span style=\"color: #00af00; text-decoration-color: #00af00\">10,474,004</span> (39.96 MB)\n",
       "</pre>\n"
      ],
      "text/plain": [
       "\u001b[1m Trainable params: \u001b[0m\u001b[38;5;34m10,474,004\u001b[0m (39.96 MB)\n"
      ]
     },
     "metadata": {},
     "output_type": "display_data"
    },
    {
     "data": {
      "text/html": [
       "<pre style=\"white-space:pre;overflow-x:auto;line-height:normal;font-family:Menlo,'DejaVu Sans Mono',consolas,'Courier New',monospace\"><span style=\"font-weight: bold\"> Non-trainable params: </span><span style=\"color: #00af00; text-decoration-color: #00af00\">0</span> (0.00 B)\n",
       "</pre>\n"
      ],
      "text/plain": [
       "\u001b[1m Non-trainable params: \u001b[0m\u001b[38;5;34m0\u001b[0m (0.00 B)\n"
      ]
     },
     "metadata": {},
     "output_type": "display_data"
    }
   ],
   "source": [
    "# defining the encoder\n",
    "latent_dim = 10\n",
    "inputShape = (150, 150, 3)\n",
    "\n",
    "encoder_inputs = keras.Input(shape=inputShape)\n",
    "x = layers.Conv2D(32, 3, activation=\"relu\", strides=2, padding=\"same\")(encoder_inputs)\n",
    "x = layers.Conv2D(64, 3, activation=\"relu\", strides=3, padding=\"same\")(x)\n",
    "x = layers.Conv2D(128, 5, activation=\"relu\", strides=1, padding=\"same\")(x)\n",
    "x = layers.Flatten()(x)\n",
    "x = layers.Dense(128, activation=\"relu\")(x)\n",
    "x = layers.Dense(64, activation=\"relu\")(x)\n",
    "z_mean = layers.Dense(latent_dim, name=\"z_mean\")(x)\n",
    "z_log_var = layers.Dense(latent_dim, name=\"z_log_var\")(x)\n",
    "z = Sampling()([z_mean, z_log_var])\n",
    "encoder = keras.Model(encoder_inputs, [z_mean, z_log_var, z], name=\"encoder\")\n",
    "encoder.summary()"
   ]
  },
  {
   "cell_type": "code",
   "execution_count": 49,
   "id": "dbe321d4-5010-4328-aa00-a066f8a92402",
   "metadata": {
    "tags": []
   },
   "outputs": [
    {
     "data": {
      "text/html": [
       "<pre style=\"white-space:pre;overflow-x:auto;line-height:normal;font-family:Menlo,'DejaVu Sans Mono',consolas,'Courier New',monospace\"><span style=\"font-weight: bold\">Model: \"decoder\"</span>\n",
       "</pre>\n"
      ],
      "text/plain": [
       "\u001b[1mModel: \"decoder\"\u001b[0m\n"
      ]
     },
     "metadata": {},
     "output_type": "display_data"
    },
    {
     "data": {
      "text/html": [
       "<pre style=\"white-space:pre;overflow-x:auto;line-height:normal;font-family:Menlo,'DejaVu Sans Mono',consolas,'Courier New',monospace\">┏━━━━━━━━━━━━━━━━━━━━━━━━━━━━━━━━━━━━━━┳━━━━━━━━━━━━━━━━━━━━━━━━━━━━━┳━━━━━━━━━━━━━━━━━┓\n",
       "┃<span style=\"font-weight: bold\"> Layer (type)                         </span>┃<span style=\"font-weight: bold\"> Output Shape                </span>┃<span style=\"font-weight: bold\">         Param # </span>┃\n",
       "┡━━━━━━━━━━━━━━━━━━━━━━━━━━━━━━━━━━━━━━╇━━━━━━━━━━━━━━━━━━━━━━━━━━━━━╇━━━━━━━━━━━━━━━━━┩\n",
       "│ input_layer_13 (<span style=\"color: #0087ff; text-decoration-color: #0087ff\">InputLayer</span>)          │ (<span style=\"color: #00d7ff; text-decoration-color: #00d7ff\">None</span>, <span style=\"color: #00af00; text-decoration-color: #00af00\">10</span>)                  │               <span style=\"color: #00af00; text-decoration-color: #00af00\">0</span> │\n",
       "├──────────────────────────────────────┼─────────────────────────────┼─────────────────┤\n",
       "│ dense_14 (<span style=\"color: #0087ff; text-decoration-color: #0087ff\">Dense</span>)                     │ (<span style=\"color: #00d7ff; text-decoration-color: #00d7ff\">None</span>, <span style=\"color: #00af00; text-decoration-color: #00af00\">40000</span>)               │         <span style=\"color: #00af00; text-decoration-color: #00af00\">440,000</span> │\n",
       "├──────────────────────────────────────┼─────────────────────────────┼─────────────────┤\n",
       "│ reshape_9 (<span style=\"color: #0087ff; text-decoration-color: #0087ff\">Reshape</span>)                  │ (<span style=\"color: #00d7ff; text-decoration-color: #00d7ff\">None</span>, <span style=\"color: #00af00; text-decoration-color: #00af00\">25</span>, <span style=\"color: #00af00; text-decoration-color: #00af00\">25</span>, <span style=\"color: #00af00; text-decoration-color: #00af00\">64</span>)          │               <span style=\"color: #00af00; text-decoration-color: #00af00\">0</span> │\n",
       "├──────────────────────────────────────┼─────────────────────────────┼─────────────────┤\n",
       "│ conv2d_transpose_29                  │ (<span style=\"color: #00d7ff; text-decoration-color: #00d7ff\">None</span>, <span style=\"color: #00af00; text-decoration-color: #00af00\">25</span>, <span style=\"color: #00af00; text-decoration-color: #00af00\">25</span>, <span style=\"color: #00af00; text-decoration-color: #00af00\">128</span>)         │         <span style=\"color: #00af00; text-decoration-color: #00af00\">204,928</span> │\n",
       "│ (<span style=\"color: #0087ff; text-decoration-color: #0087ff\">Conv2DTranspose</span>)                    │                             │                 │\n",
       "├──────────────────────────────────────┼─────────────────────────────┼─────────────────┤\n",
       "│ conv2d_transpose_30                  │ (<span style=\"color: #00d7ff; text-decoration-color: #00d7ff\">None</span>, <span style=\"color: #00af00; text-decoration-color: #00af00\">75</span>, <span style=\"color: #00af00; text-decoration-color: #00af00\">75</span>, <span style=\"color: #00af00; text-decoration-color: #00af00\">64</span>)          │          <span style=\"color: #00af00; text-decoration-color: #00af00\">73,792</span> │\n",
       "│ (<span style=\"color: #0087ff; text-decoration-color: #0087ff\">Conv2DTranspose</span>)                    │                             │                 │\n",
       "├──────────────────────────────────────┼─────────────────────────────┼─────────────────┤\n",
       "│ conv2d_transpose_31                  │ (<span style=\"color: #00d7ff; text-decoration-color: #00d7ff\">None</span>, <span style=\"color: #00af00; text-decoration-color: #00af00\">150</span>, <span style=\"color: #00af00; text-decoration-color: #00af00\">150</span>, <span style=\"color: #00af00; text-decoration-color: #00af00\">32</span>)        │          <span style=\"color: #00af00; text-decoration-color: #00af00\">18,464</span> │\n",
       "│ (<span style=\"color: #0087ff; text-decoration-color: #0087ff\">Conv2DTranspose</span>)                    │                             │                 │\n",
       "├──────────────────────────────────────┼─────────────────────────────┼─────────────────┤\n",
       "│ conv2d_transpose_32                  │ (<span style=\"color: #00d7ff; text-decoration-color: #00d7ff\">None</span>, <span style=\"color: #00af00; text-decoration-color: #00af00\">150</span>, <span style=\"color: #00af00; text-decoration-color: #00af00\">150</span>, <span style=\"color: #00af00; text-decoration-color: #00af00\">3</span>)         │             <span style=\"color: #00af00; text-decoration-color: #00af00\">867</span> │\n",
       "│ (<span style=\"color: #0087ff; text-decoration-color: #0087ff\">Conv2DTranspose</span>)                    │                             │                 │\n",
       "└──────────────────────────────────────┴─────────────────────────────┴─────────────────┘\n",
       "</pre>\n"
      ],
      "text/plain": [
       "┏━━━━━━━━━━━━━━━━━━━━━━━━━━━━━━━━━━━━━━┳━━━━━━━━━━━━━━━━━━━━━━━━━━━━━┳━━━━━━━━━━━━━━━━━┓\n",
       "┃\u001b[1m \u001b[0m\u001b[1mLayer (type)                        \u001b[0m\u001b[1m \u001b[0m┃\u001b[1m \u001b[0m\u001b[1mOutput Shape               \u001b[0m\u001b[1m \u001b[0m┃\u001b[1m \u001b[0m\u001b[1m        Param #\u001b[0m\u001b[1m \u001b[0m┃\n",
       "┡━━━━━━━━━━━━━━━━━━━━━━━━━━━━━━━━━━━━━━╇━━━━━━━━━━━━━━━━━━━━━━━━━━━━━╇━━━━━━━━━━━━━━━━━┩\n",
       "│ input_layer_13 (\u001b[38;5;33mInputLayer\u001b[0m)          │ (\u001b[38;5;45mNone\u001b[0m, \u001b[38;5;34m10\u001b[0m)                  │               \u001b[38;5;34m0\u001b[0m │\n",
       "├──────────────────────────────────────┼─────────────────────────────┼─────────────────┤\n",
       "│ dense_14 (\u001b[38;5;33mDense\u001b[0m)                     │ (\u001b[38;5;45mNone\u001b[0m, \u001b[38;5;34m40000\u001b[0m)               │         \u001b[38;5;34m440,000\u001b[0m │\n",
       "├──────────────────────────────────────┼─────────────────────────────┼─────────────────┤\n",
       "│ reshape_9 (\u001b[38;5;33mReshape\u001b[0m)                  │ (\u001b[38;5;45mNone\u001b[0m, \u001b[38;5;34m25\u001b[0m, \u001b[38;5;34m25\u001b[0m, \u001b[38;5;34m64\u001b[0m)          │               \u001b[38;5;34m0\u001b[0m │\n",
       "├──────────────────────────────────────┼─────────────────────────────┼─────────────────┤\n",
       "│ conv2d_transpose_29                  │ (\u001b[38;5;45mNone\u001b[0m, \u001b[38;5;34m25\u001b[0m, \u001b[38;5;34m25\u001b[0m, \u001b[38;5;34m128\u001b[0m)         │         \u001b[38;5;34m204,928\u001b[0m │\n",
       "│ (\u001b[38;5;33mConv2DTranspose\u001b[0m)                    │                             │                 │\n",
       "├──────────────────────────────────────┼─────────────────────────────┼─────────────────┤\n",
       "│ conv2d_transpose_30                  │ (\u001b[38;5;45mNone\u001b[0m, \u001b[38;5;34m75\u001b[0m, \u001b[38;5;34m75\u001b[0m, \u001b[38;5;34m64\u001b[0m)          │          \u001b[38;5;34m73,792\u001b[0m │\n",
       "│ (\u001b[38;5;33mConv2DTranspose\u001b[0m)                    │                             │                 │\n",
       "├──────────────────────────────────────┼─────────────────────────────┼─────────────────┤\n",
       "│ conv2d_transpose_31                  │ (\u001b[38;5;45mNone\u001b[0m, \u001b[38;5;34m150\u001b[0m, \u001b[38;5;34m150\u001b[0m, \u001b[38;5;34m32\u001b[0m)        │          \u001b[38;5;34m18,464\u001b[0m │\n",
       "│ (\u001b[38;5;33mConv2DTranspose\u001b[0m)                    │                             │                 │\n",
       "├──────────────────────────────────────┼─────────────────────────────┼─────────────────┤\n",
       "│ conv2d_transpose_32                  │ (\u001b[38;5;45mNone\u001b[0m, \u001b[38;5;34m150\u001b[0m, \u001b[38;5;34m150\u001b[0m, \u001b[38;5;34m3\u001b[0m)         │             \u001b[38;5;34m867\u001b[0m │\n",
       "│ (\u001b[38;5;33mConv2DTranspose\u001b[0m)                    │                             │                 │\n",
       "└──────────────────────────────────────┴─────────────────────────────┴─────────────────┘\n"
      ]
     },
     "metadata": {},
     "output_type": "display_data"
    },
    {
     "data": {
      "text/html": [
       "<pre style=\"white-space:pre;overflow-x:auto;line-height:normal;font-family:Menlo,'DejaVu Sans Mono',consolas,'Courier New',monospace\"><span style=\"font-weight: bold\"> Total params: </span><span style=\"color: #00af00; text-decoration-color: #00af00\">738,051</span> (2.82 MB)\n",
       "</pre>\n"
      ],
      "text/plain": [
       "\u001b[1m Total params: \u001b[0m\u001b[38;5;34m738,051\u001b[0m (2.82 MB)\n"
      ]
     },
     "metadata": {},
     "output_type": "display_data"
    },
    {
     "data": {
      "text/html": [
       "<pre style=\"white-space:pre;overflow-x:auto;line-height:normal;font-family:Menlo,'DejaVu Sans Mono',consolas,'Courier New',monospace\"><span style=\"font-weight: bold\"> Trainable params: </span><span style=\"color: #00af00; text-decoration-color: #00af00\">738,051</span> (2.82 MB)\n",
       "</pre>\n"
      ],
      "text/plain": [
       "\u001b[1m Trainable params: \u001b[0m\u001b[38;5;34m738,051\u001b[0m (2.82 MB)\n"
      ]
     },
     "metadata": {},
     "output_type": "display_data"
    },
    {
     "data": {
      "text/html": [
       "<pre style=\"white-space:pre;overflow-x:auto;line-height:normal;font-family:Menlo,'DejaVu Sans Mono',consolas,'Courier New',monospace\"><span style=\"font-weight: bold\"> Non-trainable params: </span><span style=\"color: #00af00; text-decoration-color: #00af00\">0</span> (0.00 B)\n",
       "</pre>\n"
      ],
      "text/plain": [
       "\u001b[1m Non-trainable params: \u001b[0m\u001b[38;5;34m0\u001b[0m (0.00 B)\n"
      ]
     },
     "metadata": {},
     "output_type": "display_data"
    }
   ],
   "source": [
    "# defining the decoder\n",
    "latent_inputs = keras.Input(shape=(latent_dim,))\n",
    "x = layers.Dense(25 * 25 * 64, activation=\"relu\")(latent_inputs)\n",
    "x = layers.Reshape((25, 25, 64))(x)\n",
    "x = layers.Conv2DTranspose(128, 5, activation=\"relu\", strides=1, padding=\"same\")(x)\n",
    "x = layers.Conv2DTranspose(64, 3, activation=\"relu\", strides=3, padding=\"same\")(x)\n",
    "x = layers.Conv2DTranspose(32, 3, activation=\"relu\", strides=2, padding=\"same\")(x)\n",
    "decoder_outputs = layers.Conv2DTranspose(3, 3, activation=\"sigmoid\", padding=\"same\")(x)\n",
    "decoder = keras.Model(latent_inputs, decoder_outputs, name=\"decoder\")\n",
    "decoder.summary()"
   ]
  },
  {
   "cell_type": "code",
   "execution_count": 50,
   "id": "91dffc98-5087-4ef0-8ccf-dffc8f56834e",
   "metadata": {
    "tags": []
   },
   "outputs": [],
   "source": [
    "# defining the VAE class\n",
    "class VAE(keras.Model):\n",
    "    def __init__(self, encoder, decoder, **kwargs):\n",
    "        super().__init__(**kwargs)\n",
    "        self.encoder = encoder\n",
    "        self.decoder = decoder\n",
    "        self.total_loss_tracker = keras.metrics.Mean(name=\"total_loss\")\n",
    "        self.reconstruction_loss_tracker = keras.metrics.Mean(\n",
    "            name=\"reconstruction_loss\"\n",
    "        )\n",
    "        self.kl_loss_tracker = keras.metrics.Mean(name=\"kl_loss\")\n",
    "\n",
    "    @property\n",
    "    def metrics(self):\n",
    "        return [\n",
    "            self.total_loss_tracker,\n",
    "            self.reconstruction_loss_tracker,\n",
    "            self.kl_loss_tracker,\n",
    "        ]\n",
    "\n",
    "    def train_step(self, data):\n",
    "        with tf.GradientTape() as tape:\n",
    "            z_mean, z_log_var, z = self.encoder(data)\n",
    "            reconstruction = self.decoder(z)\n",
    "            reconstruction_loss = tf.reduce_mean(\n",
    "                tf.reduce_sum(\n",
    "                    keras.losses.binary_crossentropy(data, reconstruction),\n",
    "                    axis=(1, 2),\n",
    "                )\n",
    "            )\n",
    "            kl_loss = -0.5 * (1 + z_log_var - tf.square(z_mean) - tf.exp(z_log_var))\n",
    "            kl_loss = tf.reduce_mean(tf.reduce_sum(kl_loss, axis=1))\n",
    "            total_loss = reconstruction_loss + kl_loss\n",
    "        grads = tape.gradient(total_loss, self.trainable_weights)\n",
    "        self.optimizer.apply_gradients(zip(grads, self.trainable_weights))\n",
    "        self.total_loss_tracker.update_state(total_loss)\n",
    "        self.reconstruction_loss_tracker.update_state(reconstruction_loss)\n",
    "        self.kl_loss_tracker.update_state(kl_loss)\n",
    "        return {\n",
    "            \"loss\": self.total_loss_tracker.result(),\n",
    "            \"reconstruction_loss\": self.reconstruction_loss_tracker.result(),\n",
    "            \"kl_loss\": self.kl_loss_tracker.result(),\n",
    "        }\n",
    "    \n",
    "    def call(self):\n",
    "        "
   ]
  },
  {
   "cell_type": "code",
   "execution_count": 51,
   "id": "4643bc50-3604-4e2c-88f2-fb514f3a7477",
   "metadata": {
    "tags": []
   },
   "outputs": [
    {
     "name": "stdout",
     "output_type": "stream",
     "text": [
      "Epoch 1/30\n",
      "\u001b[1m43/43\u001b[0m \u001b[32m━━━━━━━━━━━━━━━━━━━━\u001b[0m\u001b[37m\u001b[0m \u001b[1m36s\u001b[0m 704ms/step - kl_loss: 4.9218 - loss: 15517.2959 - reconstruction_loss: 15511.5518 - total_loss: 15481.1006\n",
      "Epoch 2/30\n",
      "\u001b[1m43/43\u001b[0m \u001b[32m━━━━━━━━━━━━━━━━━━━━\u001b[0m\u001b[37m\u001b[0m \u001b[1m33s\u001b[0m 679ms/step - kl_loss: 1.9781 - loss: 15475.0605 - reconstruction_loss: 15471.4844 - total_loss: 15404.6875\n",
      "Epoch 3/30\n",
      "\u001b[1m43/43\u001b[0m \u001b[32m━━━━━━━━━━━━━━━━━━━━\u001b[0m\u001b[37m\u001b[0m \u001b[1m29s\u001b[0m 685ms/step - kl_loss: 34.7952 - loss: 14947.3252 - reconstruction_loss: 14910.5557 - total_loss: 14860.3936\n",
      "Epoch 4/30\n",
      "\u001b[1m43/43\u001b[0m \u001b[32m━━━━━━━━━━━━━━━━━━━━\u001b[0m\u001b[37m\u001b[0m \u001b[1m30s\u001b[0m 687ms/step - kl_loss: 39.9394 - loss: 14502.5742 - reconstruction_loss: 14461.5518 - total_loss: 14454.8164\n",
      "Epoch 5/30\n",
      "\u001b[1m43/43\u001b[0m \u001b[32m━━━━━━━━━━━━━━━━━━━━\u001b[0m\u001b[37m\u001b[0m \u001b[1m30s\u001b[0m 693ms/step - kl_loss: 36.1860 - loss: 14244.6465 - reconstruction_loss: 14206.9609 - total_loss: 14178.6436\n",
      "Epoch 6/30\n",
      "\u001b[1m43/43\u001b[0m \u001b[32m━━━━━━━━━━━━━━━━━━━━\u001b[0m\u001b[37m\u001b[0m \u001b[1m30s\u001b[0m 685ms/step - kl_loss: 33.9436 - loss: 14063.9277 - reconstruction_loss: 14029.9951 - total_loss: 14064.4551\n",
      "Epoch 7/30\n",
      "\u001b[1m43/43\u001b[0m \u001b[32m━━━━━━━━━━━━━━━━━━━━\u001b[0m\u001b[37m\u001b[0m \u001b[1m30s\u001b[0m 698ms/step - kl_loss: 33.6880 - loss: 14001.9863 - reconstruction_loss: 13967.7100 - total_loss: 13976.0684\n",
      "Epoch 8/30\n",
      "\u001b[1m43/43\u001b[0m \u001b[32m━━━━━━━━━━━━━━━━━━━━\u001b[0m\u001b[37m\u001b[0m \u001b[1m30s\u001b[0m 687ms/step - kl_loss: 33.4666 - loss: 13919.6836 - reconstruction_loss: 13886.0098 - total_loss: 13910.6211\n",
      "Epoch 9/30\n",
      "\u001b[1m43/43\u001b[0m \u001b[32m━━━━━━━━━━━━━━━━━━━━\u001b[0m\u001b[37m\u001b[0m \u001b[1m29s\u001b[0m 670ms/step - kl_loss: 33.4794 - loss: 13863.3135 - reconstruction_loss: 13830.1025 - total_loss: 13875.1670\n",
      "Epoch 10/30\n",
      "\u001b[1m43/43\u001b[0m \u001b[32m━━━━━━━━━━━━━━━━━━━━\u001b[0m\u001b[37m\u001b[0m \u001b[1m29s\u001b[0m 670ms/step - kl_loss: 33.2959 - loss: 13822.4443 - reconstruction_loss: 13789.6543 - total_loss: 13844.7061\n",
      "Epoch 11/30\n",
      "\u001b[1m43/43\u001b[0m \u001b[32m━━━━━━━━━━━━━━━━━━━━\u001b[0m\u001b[37m\u001b[0m \u001b[1m29s\u001b[0m 668ms/step - kl_loss: 32.8032 - loss: 13827.4170 - reconstruction_loss: 13794.4453 - total_loss: 13819.9404\n",
      "Epoch 12/30\n",
      "\u001b[1m43/43\u001b[0m \u001b[32m━━━━━━━━━━━━━━━━━━━━\u001b[0m\u001b[37m\u001b[0m \u001b[1m29s\u001b[0m 672ms/step - kl_loss: 32.7361 - loss: 13785.1299 - reconstruction_loss: 13752.7891 - total_loss: 13802.5039\n",
      "Epoch 13/30\n",
      "\u001b[1m43/43\u001b[0m \u001b[32m━━━━━━━━━━━━━━━━━━━━\u001b[0m\u001b[37m\u001b[0m \u001b[1m29s\u001b[0m 666ms/step - kl_loss: 32.1550 - loss: 13805.2715 - reconstruction_loss: 13773.1025 - total_loss: 13804.6602\n",
      "Epoch 14/30\n",
      "\u001b[1m43/43\u001b[0m \u001b[32m━━━━━━━━━━━━━━━━━━━━\u001b[0m\u001b[37m\u001b[0m \u001b[1m29s\u001b[0m 668ms/step - kl_loss: 32.0940 - loss: 13768.6592 - reconstruction_loss: 13737.2246 - total_loss: 13797.7285\n",
      "Epoch 15/30\n",
      "\u001b[1m43/43\u001b[0m \u001b[32m━━━━━━━━━━━━━━━━━━━━\u001b[0m\u001b[37m\u001b[0m \u001b[1m29s\u001b[0m 670ms/step - kl_loss: 31.9260 - loss: 13793.5098 - reconstruction_loss: 13761.4883 - total_loss: 13789.3340\n",
      "Epoch 16/30\n",
      "\u001b[1m43/43\u001b[0m \u001b[32m━━━━━━━━━━━━━━━━━━━━\u001b[0m\u001b[37m\u001b[0m \u001b[1m29s\u001b[0m 672ms/step - kl_loss: 31.6838 - loss: 13778.0771 - reconstruction_loss: 13746.4385 - total_loss: 13780.0840\n",
      "Epoch 17/30\n",
      "\u001b[1m43/43\u001b[0m \u001b[32m━━━━━━━━━━━━━━━━━━━━\u001b[0m\u001b[37m\u001b[0m \u001b[1m29s\u001b[0m 670ms/step - kl_loss: 31.5260 - loss: 13746.0967 - reconstruction_loss: 13715.3447 - total_loss: 13780.1455\n",
      "Epoch 18/30\n",
      "\u001b[1m43/43\u001b[0m \u001b[32m━━━━━━━━━━━━━━━━━━━━\u001b[0m\u001b[37m\u001b[0m \u001b[1m29s\u001b[0m 672ms/step - kl_loss: 31.7271 - loss: 13774.8809 - reconstruction_loss: 13743.2715 - total_loss: 13780.0010\n",
      "Epoch 19/30\n",
      "\u001b[1m43/43\u001b[0m \u001b[32m━━━━━━━━━━━━━━━━━━━━\u001b[0m\u001b[37m\u001b[0m \u001b[1m29s\u001b[0m 674ms/step - kl_loss: 31.3915 - loss: 13787.9072 - reconstruction_loss: 13756.2607 - total_loss: 13776.6074\n",
      "Epoch 20/30\n",
      "\u001b[1m43/43\u001b[0m \u001b[32m━━━━━━━━━━━━━━━━━━━━\u001b[0m\u001b[37m\u001b[0m \u001b[1m29s\u001b[0m 667ms/step - kl_loss: 31.6722 - loss: 13709.1387 - reconstruction_loss: 13678.6201 - total_loss: 13759.9043\n",
      "Epoch 21/30\n",
      "\u001b[1m43/43\u001b[0m \u001b[32m━━━━━━━━━━━━━━━━━━━━\u001b[0m\u001b[37m\u001b[0m \u001b[1m29s\u001b[0m 672ms/step - kl_loss: 31.4160 - loss: 13713.9688 - reconstruction_loss: 13683.4658 - total_loss: 13754.1318\n",
      "Epoch 22/30\n",
      "\u001b[1m43/43\u001b[0m \u001b[32m━━━━━━━━━━━━━━━━━━━━\u001b[0m\u001b[37m\u001b[0m \u001b[1m29s\u001b[0m 666ms/step - kl_loss: 31.1922 - loss: 13760.5596 - reconstruction_loss: 13729.1152 - total_loss: 13749.5010\n",
      "Epoch 23/30\n",
      "\u001b[1m43/43\u001b[0m \u001b[32m━━━━━━━━━━━━━━━━━━━━\u001b[0m\u001b[37m\u001b[0m \u001b[1m29s\u001b[0m 672ms/step - kl_loss: 31.1445 - loss: 13738.2676 - reconstruction_loss: 13707.3418 - total_loss: 13747.8682\n",
      "Epoch 24/30\n",
      "\u001b[1m43/43\u001b[0m \u001b[32m━━━━━━━━━━━━━━━━━━━━\u001b[0m\u001b[37m\u001b[0m \u001b[1m29s\u001b[0m 677ms/step - kl_loss: 31.0600 - loss: 13720.9805 - reconstruction_loss: 13690.4717 - total_loss: 13745.2061\n",
      "Epoch 25/30\n",
      "\u001b[1m43/43\u001b[0m \u001b[32m━━━━━━━━━━━━━━━━━━━━\u001b[0m\u001b[37m\u001b[0m \u001b[1m29s\u001b[0m 667ms/step - kl_loss: 31.2922 - loss: 13724.6436 - reconstruction_loss: 13693.5986 - total_loss: 13735.5986\n",
      "Epoch 26/30\n",
      "\u001b[1m43/43\u001b[0m \u001b[32m━━━━━━━━━━━━━━━━━━━━\u001b[0m\u001b[37m\u001b[0m \u001b[1m29s\u001b[0m 670ms/step - kl_loss: 31.0063 - loss: 13736.6172 - reconstruction_loss: 13705.6279 - total_loss: 13737.3662\n",
      "Epoch 27/30\n",
      "\u001b[1m43/43\u001b[0m \u001b[32m━━━━━━━━━━━━━━━━━━━━\u001b[0m\u001b[37m\u001b[0m \u001b[1m29s\u001b[0m 672ms/step - kl_loss: 30.8241 - loss: 13758.0742 - reconstruction_loss: 13726.7324 - total_loss: 13735.1631\n",
      "Epoch 28/30\n",
      "\u001b[1m43/43\u001b[0m \u001b[32m━━━━━━━━━━━━━━━━━━━━\u001b[0m\u001b[37m\u001b[0m \u001b[1m29s\u001b[0m 670ms/step - kl_loss: 31.2345 - loss: 13701.3613 - reconstruction_loss: 13670.6631 - total_loss: 13724.9414\n",
      "Epoch 29/30\n",
      "\u001b[1m43/43\u001b[0m \u001b[32m━━━━━━━━━━━━━━━━━━━━\u001b[0m\u001b[37m\u001b[0m \u001b[1m29s\u001b[0m 670ms/step - kl_loss: 31.0271 - loss: 13732.5830 - reconstruction_loss: 13701.3242 - total_loss: 13722.4229\n",
      "Epoch 30/30\n",
      "\u001b[1m43/43\u001b[0m \u001b[32m━━━━━━━━━━━━━━━━━━━━\u001b[0m\u001b[37m\u001b[0m \u001b[1m29s\u001b[0m 672ms/step - kl_loss: 30.6579 - loss: 13742.0615 - reconstruction_loss: 13711.0137 - total_loss: 13724.8740\n"
     ]
    },
    {
     "data": {
      "text/plain": [
       "<keras.src.callbacks.history.History at 0x1ac6630f290>"
      ]
     },
     "execution_count": 51,
     "metadata": {},
     "output_type": "execute_result"
    }
   ],
   "source": [
    "vae = VAE(encoder, decoder)\n",
    "vae.compile(optimizer=keras.optimizers.Adam())\n",
    "vae.fit(X_train_tensor, epochs=30, batch_size=128)"
   ]
  }
 ],
 "metadata": {
  "kernelspec": {
   "display_name": "Python 3 (ipykernel)",
   "language": "python",
   "name": "python3"
  },
  "language_info": {
   "codemirror_mode": {
    "name": "ipython",
    "version": 3
   },
   "file_extension": ".py",
   "mimetype": "text/x-python",
   "name": "python",
   "nbconvert_exporter": "python",
   "pygments_lexer": "ipython3",
   "version": "3.11.5"
  }
 },
 "nbformat": 4,
 "nbformat_minor": 5
}
